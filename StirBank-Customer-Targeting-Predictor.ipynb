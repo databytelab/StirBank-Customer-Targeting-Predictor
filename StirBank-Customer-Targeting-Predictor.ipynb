{
 "cells": [
  {
   "cell_type": "markdown",
   "metadata": {},
   "source": [
    "# 1. Business Understanding\n",
    "\n",
    "## This is a classification problem because from the bank customer data we need to predict whether the customer will subscribe a term deposit (Yes/No)\n",
    "\n",
    "There has been a revenue decline for the StirBank bank and they would like to know what actions to take. After investigation, they found out that the root cause is that their clients are not depositing as frequently as before. Knowing that term deposits allow banks to hold onto a deposit for a specific amount of time, so banks can invest in higher gain financial products to make a profit. In addition, banks also hold better chance to persuade term deposit clients into buying other products such as funds or insurance to further increase their revenues. As a result, the StirBank would like to identify existing clients that have higher chance to subscribe for a term deposit and focus marketing effort on such clients.\n",
    "\n",
    "We will use data mining to find the best strategies to improve the next marketing campaign. In order to answer this, we have to analyze the last marketing campaign the bank performed and identify the patterns that will help us find conclusions in order to develop future strategies. To resolve the problem, we suggest a classification approach to predict which clients are more likely to subscribe for term deposits."
   ]
  },
  {
   "cell_type": "markdown",
   "metadata": {},
   "source": [
    "# 2. Data Summary"
   ]
  },
  {
   "cell_type": "markdown",
   "metadata": {},
   "source": [
    "## Import libraries"
   ]
  },
  {
   "cell_type": "code",
   "execution_count": 233,
   "metadata": {},
   "outputs": [],
   "source": [
    "import numpy as np\n",
    "import pandas as pd\n",
    "import matplotlib.pyplot as plt\n",
    "import seaborn as sns\n",
    "import plotly.express as px\n",
    "import warnings\n",
    "warnings.filterwarnings('ignore')"
   ]
  },
  {
   "cell_type": "markdown",
   "metadata": {},
   "source": [
    "## Import Data"
   ]
  },
  {
   "cell_type": "code",
   "execution_count": 234,
   "metadata": {},
   "outputs": [],
   "source": [
    "df = pd.read_csv('Data/bank-tr.csv')"
   ]
  },
  {
   "cell_type": "code",
   "execution_count": 235,
   "metadata": {},
   "outputs": [
    {
     "data": {
      "text/html": [
       "<div>\n",
       "<style scoped>\n",
       "    .dataframe tbody tr th:only-of-type {\n",
       "        vertical-align: middle;\n",
       "    }\n",
       "\n",
       "    .dataframe tbody tr th {\n",
       "        vertical-align: top;\n",
       "    }\n",
       "\n",
       "    .dataframe thead th {\n",
       "        text-align: right;\n",
       "    }\n",
       "</style>\n",
       "<table border=\"1\" class=\"dataframe\">\n",
       "  <thead>\n",
       "    <tr style=\"text-align: right;\">\n",
       "      <th></th>\n",
       "      <th>accountID</th>\n",
       "      <th>town</th>\n",
       "      <th>country</th>\n",
       "      <th>age</th>\n",
       "      <th>job</th>\n",
       "      <th>marital</th>\n",
       "      <th>education</th>\n",
       "      <th>defaulted?</th>\n",
       "      <th>current_balance</th>\n",
       "      <th>housing</th>\n",
       "      <th>has_loan</th>\n",
       "      <th>last_contact</th>\n",
       "      <th>cc_tr</th>\n",
       "      <th>last_contact_day</th>\n",
       "      <th>last_contact_month</th>\n",
       "      <th>campaign</th>\n",
       "      <th>days_since_last_contact</th>\n",
       "      <th>previous</th>\n",
       "      <th>poutcome</th>\n",
       "      <th>made_deposit</th>\n",
       "    </tr>\n",
       "  </thead>\n",
       "  <tbody>\n",
       "    <tr>\n",
       "      <th>0</th>\n",
       "      <td>24634684</td>\n",
       "      <td>Crawley</td>\n",
       "      <td>UK</td>\n",
       "      <td>39</td>\n",
       "      <td>management</td>\n",
       "      <td>married</td>\n",
       "      <td>tertiary</td>\n",
       "      <td>no</td>\n",
       "      <td>-190</td>\n",
       "      <td>no</td>\n",
       "      <td>yes</td>\n",
       "      <td>unknown</td>\n",
       "      <td>1</td>\n",
       "      <td>11</td>\n",
       "      <td>jun</td>\n",
       "      <td>8</td>\n",
       "      <td>-1</td>\n",
       "      <td>0</td>\n",
       "      <td>unknown</td>\n",
       "      <td>yes</td>\n",
       "    </tr>\n",
       "    <tr>\n",
       "      <th>1</th>\n",
       "      <td>80795929</td>\n",
       "      <td>Southend-on-Sea</td>\n",
       "      <td>UK</td>\n",
       "      <td>53</td>\n",
       "      <td>housemaid</td>\n",
       "      <td>married</td>\n",
       "      <td>primary</td>\n",
       "      <td>no</td>\n",
       "      <td>362</td>\n",
       "      <td>no</td>\n",
       "      <td>no</td>\n",
       "      <td>cellular</td>\n",
       "      <td>1</td>\n",
       "      <td>28</td>\n",
       "      <td>jul</td>\n",
       "      <td>2</td>\n",
       "      <td>-1</td>\n",
       "      <td>0</td>\n",
       "      <td>unknown</td>\n",
       "      <td>yes</td>\n",
       "    </tr>\n",
       "    <tr>\n",
       "      <th>2</th>\n",
       "      <td>30786087</td>\n",
       "      <td>Gillingham</td>\n",
       "      <td>UK</td>\n",
       "      <td>79</td>\n",
       "      <td>retired</td>\n",
       "      <td>divorced</td>\n",
       "      <td>primary</td>\n",
       "      <td>no</td>\n",
       "      <td>2787</td>\n",
       "      <td>no</td>\n",
       "      <td>no</td>\n",
       "      <td>telephone</td>\n",
       "      <td>5</td>\n",
       "      <td>13</td>\n",
       "      <td>jul</td>\n",
       "      <td>1</td>\n",
       "      <td>377</td>\n",
       "      <td>1</td>\n",
       "      <td>success</td>\n",
       "      <td>yes</td>\n",
       "    </tr>\n",
       "    <tr>\n",
       "      <th>3</th>\n",
       "      <td>38925327</td>\n",
       "      <td>Gateshead</td>\n",
       "      <td>UK</td>\n",
       "      <td>43</td>\n",
       "      <td>services</td>\n",
       "      <td>single</td>\n",
       "      <td>secondary</td>\n",
       "      <td>no</td>\n",
       "      <td>550</td>\n",
       "      <td>yes</td>\n",
       "      <td>no</td>\n",
       "      <td>cellular</td>\n",
       "      <td>4</td>\n",
       "      <td>13</td>\n",
       "      <td>may</td>\n",
       "      <td>2</td>\n",
       "      <td>-1</td>\n",
       "      <td>0</td>\n",
       "      <td>unknown</td>\n",
       "      <td>no</td>\n",
       "    </tr>\n",
       "    <tr>\n",
       "      <th>4</th>\n",
       "      <td>30560733</td>\n",
       "      <td>Eastbourne</td>\n",
       "      <td>UK</td>\n",
       "      <td>35</td>\n",
       "      <td>technician</td>\n",
       "      <td>single</td>\n",
       "      <td>secondary</td>\n",
       "      <td>no</td>\n",
       "      <td>344</td>\n",
       "      <td>no</td>\n",
       "      <td>no</td>\n",
       "      <td>cellular</td>\n",
       "      <td>2</td>\n",
       "      <td>27</td>\n",
       "      <td>aug</td>\n",
       "      <td>16</td>\n",
       "      <td>-1</td>\n",
       "      <td>0</td>\n",
       "      <td>unknown</td>\n",
       "      <td>yes</td>\n",
       "    </tr>\n",
       "    <tr>\n",
       "      <th>5</th>\n",
       "      <td>87009742</td>\n",
       "      <td>Cambridge</td>\n",
       "      <td>UK</td>\n",
       "      <td>24</td>\n",
       "      <td>student</td>\n",
       "      <td>single</td>\n",
       "      <td>secondary</td>\n",
       "      <td>no</td>\n",
       "      <td>139</td>\n",
       "      <td>no</td>\n",
       "      <td>no</td>\n",
       "      <td>cellular</td>\n",
       "      <td>1</td>\n",
       "      <td>9</td>\n",
       "      <td>sep</td>\n",
       "      <td>4</td>\n",
       "      <td>-1</td>\n",
       "      <td>0</td>\n",
       "      <td>unknown</td>\n",
       "      <td>yes</td>\n",
       "    </tr>\n",
       "    <tr>\n",
       "      <th>6</th>\n",
       "      <td>64060643</td>\n",
       "      <td>Eastbourne</td>\n",
       "      <td>UK</td>\n",
       "      <td>49</td>\n",
       "      <td>blue-collar</td>\n",
       "      <td>divorced</td>\n",
       "      <td>primary</td>\n",
       "      <td>no</td>\n",
       "      <td>24</td>\n",
       "      <td>yes</td>\n",
       "      <td>no</td>\n",
       "      <td>cellular</td>\n",
       "      <td>5</td>\n",
       "      <td>11</td>\n",
       "      <td>may</td>\n",
       "      <td>1</td>\n",
       "      <td>362</td>\n",
       "      <td>1</td>\n",
       "      <td>success</td>\n",
       "      <td>yes</td>\n",
       "    </tr>\n",
       "    <tr>\n",
       "      <th>7</th>\n",
       "      <td>64609858</td>\n",
       "      <td>London</td>\n",
       "      <td>UK</td>\n",
       "      <td>54</td>\n",
       "      <td>self-employed</td>\n",
       "      <td>single</td>\n",
       "      <td>tertiary</td>\n",
       "      <td>no</td>\n",
       "      <td>384</td>\n",
       "      <td>no</td>\n",
       "      <td>yes</td>\n",
       "      <td>cellular</td>\n",
       "      <td>4</td>\n",
       "      <td>27</td>\n",
       "      <td>may</td>\n",
       "      <td>1</td>\n",
       "      <td>-1</td>\n",
       "      <td>0</td>\n",
       "      <td>unknown</td>\n",
       "      <td>yes</td>\n",
       "    </tr>\n",
       "    <tr>\n",
       "      <th>8</th>\n",
       "      <td>69018404</td>\n",
       "      <td>Colchester</td>\n",
       "      <td>UK</td>\n",
       "      <td>29</td>\n",
       "      <td>services</td>\n",
       "      <td>married</td>\n",
       "      <td>primary</td>\n",
       "      <td>no</td>\n",
       "      <td>-102</td>\n",
       "      <td>no</td>\n",
       "      <td>no</td>\n",
       "      <td>unknown</td>\n",
       "      <td>4</td>\n",
       "      <td>4</td>\n",
       "      <td>jul</td>\n",
       "      <td>1</td>\n",
       "      <td>-1</td>\n",
       "      <td>0</td>\n",
       "      <td>unknown</td>\n",
       "      <td>no</td>\n",
       "    </tr>\n",
       "    <tr>\n",
       "      <th>9</th>\n",
       "      <td>65740222</td>\n",
       "      <td>Bristol</td>\n",
       "      <td>UK</td>\n",
       "      <td>56</td>\n",
       "      <td>blue-collar</td>\n",
       "      <td>single</td>\n",
       "      <td>secondary</td>\n",
       "      <td>no</td>\n",
       "      <td>1187</td>\n",
       "      <td>yes</td>\n",
       "      <td>no</td>\n",
       "      <td>cellular</td>\n",
       "      <td>2</td>\n",
       "      <td>5</td>\n",
       "      <td>feb</td>\n",
       "      <td>2</td>\n",
       "      <td>-1</td>\n",
       "      <td>0</td>\n",
       "      <td>unknown</td>\n",
       "      <td>no</td>\n",
       "    </tr>\n",
       "  </tbody>\n",
       "</table>\n",
       "</div>"
      ],
      "text/plain": [
       "   accountID             town country  age            job   marital  \\\n",
       "0   24634684          Crawley      UK   39     management   married   \n",
       "1   80795929  Southend-on-Sea      UK   53      housemaid   married   \n",
       "2   30786087       Gillingham      UK   79        retired  divorced   \n",
       "3   38925327        Gateshead      UK   43       services    single   \n",
       "4   30560733       Eastbourne      UK   35     technician    single   \n",
       "5   87009742        Cambridge      UK   24        student    single   \n",
       "6   64060643       Eastbourne      UK   49    blue-collar  divorced   \n",
       "7   64609858           London      UK   54  self-employed    single   \n",
       "8   69018404       Colchester      UK   29       services   married   \n",
       "9   65740222          Bristol      UK   56    blue-collar    single   \n",
       "\n",
       "   education defaulted?  current_balance housing has_loan last_contact  cc_tr  \\\n",
       "0   tertiary         no             -190      no      yes      unknown      1   \n",
       "1    primary         no              362      no       no     cellular      1   \n",
       "2    primary         no             2787      no       no    telephone      5   \n",
       "3  secondary         no              550     yes       no     cellular      4   \n",
       "4  secondary         no              344      no       no     cellular      2   \n",
       "5  secondary         no              139      no       no     cellular      1   \n",
       "6    primary         no               24     yes       no     cellular      5   \n",
       "7   tertiary         no              384      no      yes     cellular      4   \n",
       "8    primary         no             -102      no       no      unknown      4   \n",
       "9  secondary         no             1187     yes       no     cellular      2   \n",
       "\n",
       "   last_contact_day last_contact_month  campaign  days_since_last_contact  \\\n",
       "0                11                jun         8                       -1   \n",
       "1                28                jul         2                       -1   \n",
       "2                13                jul         1                      377   \n",
       "3                13                may         2                       -1   \n",
       "4                27                aug        16                       -1   \n",
       "5                 9                sep         4                       -1   \n",
       "6                11                may         1                      362   \n",
       "7                27                may         1                       -1   \n",
       "8                 4                jul         1                       -1   \n",
       "9                 5                feb         2                       -1   \n",
       "\n",
       "   previous poutcome made_deposit  \n",
       "0         0  unknown          yes  \n",
       "1         0  unknown          yes  \n",
       "2         1  success          yes  \n",
       "3         0  unknown           no  \n",
       "4         0  unknown          yes  \n",
       "5         0  unknown          yes  \n",
       "6         1  success          yes  \n",
       "7         0  unknown          yes  \n",
       "8         0  unknown           no  \n",
       "9         0  unknown           no  "
      ]
     },
     "execution_count": 235,
     "metadata": {},
     "output_type": "execute_result"
    }
   ],
   "source": [
    "df.head(10)"
   ]
  },
  {
   "cell_type": "code",
   "execution_count": 236,
   "metadata": {},
   "outputs": [
    {
     "name": "stdout",
     "output_type": "stream",
     "text": [
      "<class 'pandas.core.frame.DataFrame'>\n",
      "RangeIndex: 8000 entries, 0 to 7999\n",
      "Data columns (total 20 columns):\n",
      " #   Column                   Non-Null Count  Dtype \n",
      "---  ------                   --------------  ----- \n",
      " 0   accountID                8000 non-null   int64 \n",
      " 1   town                     8000 non-null   object\n",
      " 2   country                  8000 non-null   object\n",
      " 3   age                      8000 non-null   int64 \n",
      " 4   job                      8000 non-null   object\n",
      " 5   marital                  8000 non-null   object\n",
      " 6   education                8000 non-null   object\n",
      " 7   defaulted?               8000 non-null   object\n",
      " 8   current_balance          8000 non-null   int64 \n",
      " 9   housing                  8000 non-null   object\n",
      " 10  has_loan                 8000 non-null   object\n",
      " 11  last_contact             8000 non-null   object\n",
      " 12  cc_tr                    8000 non-null   int64 \n",
      " 13  last_contact_day         8000 non-null   int64 \n",
      " 14  last_contact_month       8000 non-null   object\n",
      " 15  campaign                 8000 non-null   int64 \n",
      " 16  days_since_last_contact  8000 non-null   int64 \n",
      " 17  previous                 8000 non-null   int64 \n",
      " 18  poutcome                 8000 non-null   object\n",
      " 19  made_deposit             8000 non-null   object\n",
      "dtypes: int64(8), object(12)\n",
      "memory usage: 1.2+ MB\n"
     ]
    }
   ],
   "source": [
    "df.shape\n",
    "df.info()"
   ]
  },
  {
   "cell_type": "markdown",
   "metadata": {},
   "source": [
    "## A total of 8000 rows and 20 columns of data are defined as follows:"
   ]
  },
  {
   "cell_type": "markdown",
   "metadata": {},
   "source": [
    "## Feature/column description\n",
    "\n",
    "### Basic Attributes\n",
    "\n",
    "1.  accountID              : unique identifier for customer\n",
    "2.  town                   : home town for customer\n",
    "3.  country                : country for customer's home address\n",
    "4.  age                    : customer's age\n",
    "5.  job                    : customer's job\n",
    "6.  married                : customer's marital status\n",
    "7.  education              : customer's highest educational qualification level obtained\n",
    "8.  defaulted?             : has the customer credit in default (i.e. failed to repay)?\n",
    "9.  current_balance        : current amount in customer's account in pounds\n",
    "10. housing                : has the customer a housing loan / mortgage?\n",
    "11. has_loan               : has the customer got an unsecured personal loan?\n",
    "\n",
    "### Business Contact\n",
    "12. last_contact           : type of communication used for previous call to customer\n",
    "13. cc_tr                  : credit card tracking ID (meaning is confidential)\n",
    "14. last_contact_month     : last contact month of year\n",
    "15. last_contact_day       : last contact day of the month\n",
    "\n",
    "### Marketing Activities\n",
    "16. campaign               : number of contacts performed during this campaign and for this client\n",
    "17. days_since_last_contact: number of days that passed by after the client was last contacted from a previous campaign\n",
    "18. previous               : number of contacts performed before this campaign and for this client\n",
    "19. poutcome               : outcome of the previous marketing campaign\n",
    "\n",
    "### Target Variable\n",
    "20. made_deposit           : has the client subscribed a term deposit?"
   ]
  },
  {
   "cell_type": "markdown",
   "metadata": {},
   "source": [
    "## EDA"
   ]
  },
  {
   "cell_type": "code",
   "execution_count": 237,
   "metadata": {},
   "outputs": [
    {
     "data": {
      "text/plain": [
       "accountID                   int64\n",
       "town                       object\n",
       "country                    object\n",
       "age                         int64\n",
       "job                        object\n",
       "marital                    object\n",
       "education                  object\n",
       "defaulted?                 object\n",
       "current_balance             int64\n",
       "housing                    object\n",
       "has_loan                   object\n",
       "last_contact               object\n",
       "cc_tr                       int64\n",
       "last_contact_day            int64\n",
       "last_contact_month         object\n",
       "campaign                    int64\n",
       "days_since_last_contact     int64\n",
       "previous                    int64\n",
       "poutcome                   object\n",
       "made_deposit               object\n",
       "dtype: object"
      ]
     },
     "execution_count": 237,
     "metadata": {},
     "output_type": "execute_result"
    }
   ],
   "source": [
    "df.dtypes"
   ]
  },
  {
   "cell_type": "code",
   "execution_count": 238,
   "metadata": {},
   "outputs": [],
   "source": [
    "# Ordinal: maintain a specific order (use label encoder)\n",
    "# Nomonal: do not maintain a specific order (go for one hot encoding)\n",
    "# Discrete: Numbered values that take only certain value\n",
    "# Contineous: Numbered values that can take any value within a specific range"
   ]
  },
  {
   "cell_type": "code",
   "execution_count": 239,
   "metadata": {},
   "outputs": [
    {
     "name": "stdout",
     "output_type": "stream",
     "text": [
      "['town', 'country', 'job', 'marital', 'education', 'defaulted?', 'housing', 'has_loan', 'last_contact', 'last_contact_month', 'poutcome', 'made_deposit']\n",
      "12\n"
     ]
    }
   ],
   "source": [
    "## Categorical features\n",
    "\n",
    "cat_features = [col for col in df.columns if df[col].dtype =='O']\n",
    "print(cat_features)\n",
    "print(len(cat_features))"
   ]
  },
  {
   "cell_type": "code",
   "execution_count": 240,
   "metadata": {},
   "outputs": [
    {
     "name": "stdout",
     "output_type": "stream",
     "text": [
      "['accountID', 'age', 'current_balance', 'cc_tr', 'last_contact_day', 'campaign', 'days_since_last_contact', 'previous']\n",
      "8\n"
     ]
    }
   ],
   "source": [
    "## Numerical features\n",
    "\n",
    "num_features = [col for col in df.columns if df[col].dtype !='O']\n",
    "print(num_features)\n",
    "print(len(num_features))"
   ]
  },
  {
   "cell_type": "code",
   "execution_count": 241,
   "metadata": {},
   "outputs": [
    {
     "name": "stdout",
     "output_type": "stream",
     "text": [
      "town\n",
      "['Crawley' 'Southend-on-Sea' 'Gillingham' 'Gateshead' 'Eastbourne'\n",
      " 'Cambridge' 'London' 'Colchester' 'Bristol' 'Newport'\n",
      " 'Kingston upon Hull' 'Southampton' 'Liverpool' 'Telford' 'Slough'\n",
      " 'Glasgow' 'Birmingham' 'Dundee' 'Stoke-on-Trent' 'Nottingham' 'Swindon'\n",
      " 'Manchester' 'Blackburn' 'Reading' 'Plymouth' 'Warrington' 'Derby'\n",
      " 'Peterborough' 'Birkenhead' 'Chesterfield' 'County Down' 'Portsmouth'\n",
      " 'Poole' 'Rotherham' 'Raleigh' 'Doncaster' 'Luton' 'Solihull' 'Bedford'\n",
      " 'St Albans' 'Norwich' 'Leeds' 'Maidstone' 'Oxford' 'Worthing' 'Belfast'\n",
      " 'Sunderland' 'Wolverhampton' 'Bath' 'Basingstoke' 'Newcastle upon Tyne'\n",
      " 'Watford' 'Stockport' 'Hartlepool' 'Preston' 'Milton Keynes' 'Southport'\n",
      " 'Brighton' 'Cheltenham' 'High Wycombe' 'Hemel Hempstead' 'Huddersfield'\n",
      " 'Barnsley' 'Darlington' 'Rochdale' 'Leicester' 'Wigan' 'St Helens'\n",
      " 'Sheffield' 'Worcester' 'Coventry' 'Sale' 'Woking' 'Oldham' 'Northampton'\n",
      " 'Chelmsford' 'Stevenage' 'Aberdeen' 'Bolton' 'York' 'Basildon' 'Ipswich'\n",
      " 'Nuneaton' 'Cardiff' 'Wakefield' 'Edinburgh' 'Swansea' 'Chester'\n",
      " 'Sutton Coldfield' 'Blackpool' 'Bournemouth' 'Grimsby' 'Lincoln'\n",
      " 'Gloucester' 'Halifax' 'Exeter' 'Salford' 'Weston-super-Mare'\n",
      " 'Middlesbrough' 'Bradford' 'Hastings']\n",
      "object \n",
      "\n",
      "country\n",
      "['UK' 'France' 'Germany' 'USA' 'Portugal']\n",
      "object \n",
      "\n",
      "job\n",
      "['management' 'housemaid' 'retired' 'services' 'technician' 'student'\n",
      " 'blue-collar' 'self-employed' 'admin.' 'unemployed' 'entrepreneur'\n",
      " 'unknown']\n",
      "object \n",
      "\n",
      "marital\n",
      "['married' 'divorced' 'single']\n",
      "object \n",
      "\n",
      "education\n",
      "['tertiary' 'primary' 'secondary' 'unknown']\n",
      "object \n",
      "\n",
      "defaulted?\n",
      "['no' 'yes']\n",
      "object \n",
      "\n",
      "housing\n",
      "['no' 'yes']\n",
      "object \n",
      "\n",
      "has_loan\n",
      "['yes' 'no' 'n']\n",
      "object \n",
      "\n",
      "last_contact\n",
      "['unknown' 'cellular' 'telephone' 'cell']\n",
      "object \n",
      "\n",
      "last_contact_month\n",
      "['jun' 'jul' 'may' 'aug' 'sep' 'feb' 'nov' 'mar' 'jan' 'apr' 'dec' 'oct'\n",
      " 'j']\n",
      "object \n",
      "\n",
      "poutcome\n",
      "['unknown' 'success' 'other' 'failure']\n",
      "object \n",
      "\n",
      "made_deposit\n",
      "['yes' 'no']\n",
      "object \n",
      "\n"
     ]
    }
   ],
   "source": [
    "for col in cat_features:\n",
    "    print(col)\n",
    "    print(df[col].unique())\n",
    "    print(df[col].dtype, '\\n')"
   ]
  },
  {
   "cell_type": "code",
   "execution_count": 242,
   "metadata": {},
   "outputs": [
    {
     "name": "stdout",
     "output_type": "stream",
     "text": [
      "accountID\n",
      "[24634684 80795929 30786087 ... 15543615 95937004 72139097]\n",
      "int64 \n",
      "\n",
      "age\n",
      "[39 53 79 43 35 24 49 54 29 56 47 33 41 44 32 42 66 37 34 55 50 48 36 40\n",
      " 38 27 58 18 30 59 28 31 26 51 46 57 75 65 73 78 25 69 45 76 60 22 52 62\n",
      " 72 61 63 23 70 68 20 67 71 83 64 77 81 80 21 19 85 86 84 74 87 90 88 89\n",
      " 82 93 92]\n",
      "int64 \n",
      "\n",
      "current_balance\n",
      "[-190  362 2787 ... 3902  875 1868]\n",
      "int64 \n",
      "\n",
      "cc_tr\n",
      "[1 5 4 2 3]\n",
      "int64 \n",
      "\n",
      "last_contact_day\n",
      "[11 28 13 27  9  4  5 19 29 14  7 25 12 20  6  2 15  8 30  3 21 18 23 22\n",
      " 16 17 31  1 26 10 24]\n",
      "int64 \n",
      "\n",
      "campaign\n",
      "[ 8  2  1 16  4  3  7 20 12  5 15  9 11  6 13 21 10 24 18 17 14 26 22 41\n",
      " 30 23 25 29 43 19 31 63 32 33 28 27]\n",
      "int64 \n",
      "\n",
      "days_since_last_contact\n",
      "[ -1 377 362  99 392 150 337 357 167 164 182  93 121  95 188 365 186 101\n",
      " 238 805 183 189  89 412 103 251 100 415 344 370  98 174 190  86 321 503\n",
      "  28  91 181 160  90 227  42 404 172 318 179 381 123 398 334 477 276 345\n",
      "  94 440 349 113  92 360 305  84 363 295   9 264 425 129 111 168  70 191\n",
      " 242 196 315 772 184 156 239  56 175  82 579 120 199 274 430 273 282  74\n",
      " 128 355 119 420 124 105 325  79  60 389 301 331 223  69 197  14 328 203\n",
      " 347 266   1 322 298 204 353 192 194 171 138  62  97  87 234 106 324 352\n",
      " 200 312 435 368 281 332 291 307 202 117 342 178 187 236 112 166 350  75\n",
      " 253 486  34 176 258  22 359  96 320 180 297 371 148  88  20 384 323 271\n",
      " 257 136 414 356 270 391 154 170 369 300 346 213 313 293  38 135 555  13\n",
      " 246 126 378 210 169 104 290 152 409  80  83 140 461 449 326 107   6 366\n",
      "  85 394 551 294 401 195 134  55  21 339  44 211 364 343  48 330 256 304\n",
      " 458 386 279 260 198 265 491 299 115  77 207 252 173 185 272 217 280 842\n",
      " 269 250 367  73 351 717 216 520  65 341  43 701 561 162 426 278 385 139\n",
      " 329 854 228 541 338 144 159 161 132 259 335 336 314 518 372 285 267 125\n",
      " 163 214 470 130 116 225 193 147  66 108 102 558 475  58 462 481 296 348\n",
      "  61 358 466 143   2 177 133 302 490 153 149 261  63 122 268 262 310 209\n",
      "  81 316  41  68 587  64 460 235 286 155 244 436 127  29 469 247 137 395\n",
      " 450 651 287 792 201 232  53 141 427 114 375 478 771 231 208  17 245  71\n",
      "  76 229 288 275 254  57 782 165 308 774 317  35 648 495 327 283 361 439\n",
      " 421 306 311 205 479   4  50 284 255 110  52 455 388 529 474 303 233 146\n",
      "  31 131 109   8 354 776 778 289 145 586 340 804 749 403 521 263 157  15\n",
      "  37 212  78 407 374 444 118  36 544  40   5 319 594  67 397  33 277 309\n",
      " 222 442 626 241 237 553 433  10 828 603  72 424 333 457 417 504 532 376\n",
      "  24 142]\n",
      "int64 \n",
      "\n",
      "previous\n",
      "[ 0  1  2  6  4  3  8 13  5 10 14  7 11 21  9 27 16 12 23 29 20 19 26 17\n",
      " 15 55 41 18 58 40 22 28 30]\n",
      "int64 \n",
      "\n"
     ]
    }
   ],
   "source": [
    "for col in num_features:\n",
    "    print(col)\n",
    "    print(df[col].unique())\n",
    "    print(df[col].dtype, '\\n')"
   ]
  },
  {
   "cell_type": "code",
   "execution_count": 243,
   "metadata": {},
   "outputs": [
    {
     "data": {
      "text/plain": [
       "<Figure size 432x288 with 0 Axes>"
      ]
     },
     "metadata": {},
     "output_type": "display_data"
    },
    {
     "data": {
      "image/png": "[encoded data removed]",
      "text/plain": [
       "<Figure size 1224x2016 with 12 Axes>"
      ]
     },
     "metadata": {},
     "output_type": "display_data"
    }
   ],
   "source": [
    "## Visulaize categorical features with made_deposit\n",
    "plt.figure()\n",
    "i = 1\n",
    "fig, ax = plt.subplots(6, 2, figsize = (17, 28))\n",
    "\n",
    "for col in cat_features:\n",
    "    plt.subplot(6,2, i)\n",
    "    sns.countplot(data = df, x = col, hue = 'made_deposit')\n",
    "    plt.xlabel(col, fontsize = 9)\n",
    "    i = i+1\n",
    "plt.show()"
   ]
  },
  {
   "cell_type": "code",
   "execution_count": 244,
   "metadata": {},
   "outputs": [
    {
     "name": "stdout",
     "output_type": "stream",
     "text": [
      "UK          7995\n",
      "France         2\n",
      "USA            1\n",
      "Portugal       1\n",
      "Germany        1\n",
      "Name: country, dtype: int64\n"
     ]
    }
   ],
   "source": [
    "print(df['country'].value_counts())"
   ]
  },
  {
   "cell_type": "code",
   "execution_count": 245,
   "metadata": {},
   "outputs": [
    {
     "name": "stdout",
     "output_type": "stream",
     "text": [
      "no     4172\n",
      "yes    3828\n",
      "Name: made_deposit, dtype: int64\n"
     ]
    }
   ],
   "source": [
    "print(df['made_deposit'].value_counts())"
   ]
  },
  {
   "cell_type": "code",
   "execution_count": 246,
   "metadata": {},
   "outputs": [
    {
     "data": {
      "text/plain": [
       "<Figure size 432x288 with 0 Axes>"
      ]
     },
     "metadata": {},
     "output_type": "display_data"
    },
    {
     "data": {
      "image/png": "[encoded data removed]",
      "text/plain": [
       "<Figure size 1080x288 with 1 Axes>"
      ]
     },
     "metadata": {},
     "output_type": "display_data"
    }
   ],
   "source": [
    "plt.figure()\n",
    "fig, ax = plt.subplots(figsize = (15, 4))\n",
    "sns.countplot(data = df, x = 'job', hue = 'made_deposit')\n",
    "plt.show()"
   ]
  },
  {
   "cell_type": "code",
   "execution_count": 247,
   "metadata": {},
   "outputs": [
    {
     "data": {
      "text/plain": [
       "<Figure size 432x288 with 0 Axes>"
      ]
     },
     "metadata": {},
     "output_type": "display_data"
    },
    {
     "data": {
      "image/png": "[encoded data removed]",
      "text/plain": [
       "<Figure size 1224x2016 with 8 Axes>"
      ]
     },
     "metadata": {},
     "output_type": "display_data"
    }
   ],
   "source": [
    "## Visulaize numerical features with made_deposit\n",
    "plt.figure()\n",
    "i = 1\n",
    "fig, ax = plt.subplots(6, 2, figsize = (17, 28))\n",
    "\n",
    "for col in num_features:\n",
    "    plt.subplot(4,2, i)\n",
    "    sns.barplot(x = df['made_deposit'], y =df[col])\n",
    "    plt.xlabel('made_deposit', fontsize = 9)\n",
    "    i = i+1\n",
    "plt.show()"
   ]
  },
  {
   "cell_type": "code",
   "execution_count": 248,
   "metadata": {},
   "outputs": [
    {
     "data": {
      "text/plain": [
       "<Figure size 432x288 with 0 Axes>"
      ]
     },
     "metadata": {},
     "output_type": "display_data"
    },
    {
     "data": {
      "image/png": "[encoded data removed]",
      "text/plain": [
       "<Figure size 1008x1008 with 8 Axes>"
      ]
     },
     "metadata": {},
     "output_type": "display_data"
    }
   ],
   "source": [
    "## Check distribution of numerical features\n",
    "i=1\n",
    "plt.figure()\n",
    "#plt.style.use('default')\n",
    "fig, ax = plt.subplots(4, 2, figsize = (14, 14))\n",
    "\n",
    "for feature in num_features:\n",
    "    plt.subplot(4,2,i)\n",
    "    sns.distplot(df[feature], color = 'blue', kde = True, label = 'bank')\n",
    "    plt.xlabel(feature, fontsize = 9);\n",
    "    i=i+1\n",
    "plt.show()"
   ]
  },
  {
   "cell_type": "code",
   "execution_count": 249,
   "metadata": {},
   "outputs": [
    {
     "data": {
      "text/html": [
       "<div>\n",
       "<style scoped>\n",
       "    .dataframe tbody tr th:only-of-type {\n",
       "        vertical-align: middle;\n",
       "    }\n",
       "\n",
       "    .dataframe tbody tr th {\n",
       "        vertical-align: top;\n",
       "    }\n",
       "\n",
       "    .dataframe thead th {\n",
       "        text-align: right;\n",
       "    }\n",
       "</style>\n",
       "<table border=\"1\" class=\"dataframe\">\n",
       "  <thead>\n",
       "    <tr style=\"text-align: right;\">\n",
       "      <th></th>\n",
       "      <th>accountID</th>\n",
       "      <th>town</th>\n",
       "      <th>country</th>\n",
       "      <th>age</th>\n",
       "      <th>job</th>\n",
       "      <th>marital</th>\n",
       "      <th>education</th>\n",
       "      <th>defaulted?</th>\n",
       "      <th>current_balance</th>\n",
       "      <th>housing</th>\n",
       "      <th>has_loan</th>\n",
       "      <th>last_contact</th>\n",
       "      <th>cc_tr</th>\n",
       "      <th>last_contact_day</th>\n",
       "      <th>last_contact_month</th>\n",
       "      <th>campaign</th>\n",
       "      <th>days_since_last_contact</th>\n",
       "      <th>previous</th>\n",
       "      <th>poutcome</th>\n",
       "      <th>made_deposit</th>\n",
       "    </tr>\n",
       "  </thead>\n",
       "  <tbody>\n",
       "    <tr>\n",
       "      <th>0</th>\n",
       "      <td>24634684</td>\n",
       "      <td>Crawley</td>\n",
       "      <td>UK</td>\n",
       "      <td>39</td>\n",
       "      <td>management</td>\n",
       "      <td>married</td>\n",
       "      <td>tertiary</td>\n",
       "      <td>no</td>\n",
       "      <td>-190</td>\n",
       "      <td>no</td>\n",
       "      <td>yes</td>\n",
       "      <td>unknown</td>\n",
       "      <td>1</td>\n",
       "      <td>11</td>\n",
       "      <td>jun</td>\n",
       "      <td>8</td>\n",
       "      <td>-1</td>\n",
       "      <td>0</td>\n",
       "      <td>unknown</td>\n",
       "      <td>yes</td>\n",
       "    </tr>\n",
       "    <tr>\n",
       "      <th>1</th>\n",
       "      <td>80795929</td>\n",
       "      <td>Southend-on-Sea</td>\n",
       "      <td>UK</td>\n",
       "      <td>53</td>\n",
       "      <td>housemaid</td>\n",
       "      <td>married</td>\n",
       "      <td>primary</td>\n",
       "      <td>no</td>\n",
       "      <td>362</td>\n",
       "      <td>no</td>\n",
       "      <td>no</td>\n",
       "      <td>cellular</td>\n",
       "      <td>1</td>\n",
       "      <td>28</td>\n",
       "      <td>jul</td>\n",
       "      <td>2</td>\n",
       "      <td>-1</td>\n",
       "      <td>0</td>\n",
       "      <td>unknown</td>\n",
       "      <td>yes</td>\n",
       "    </tr>\n",
       "    <tr>\n",
       "      <th>2</th>\n",
       "      <td>30786087</td>\n",
       "      <td>Gillingham</td>\n",
       "      <td>UK</td>\n",
       "      <td>79</td>\n",
       "      <td>retired</td>\n",
       "      <td>divorced</td>\n",
       "      <td>primary</td>\n",
       "      <td>no</td>\n",
       "      <td>2787</td>\n",
       "      <td>no</td>\n",
       "      <td>no</td>\n",
       "      <td>telephone</td>\n",
       "      <td>5</td>\n",
       "      <td>13</td>\n",
       "      <td>jul</td>\n",
       "      <td>1</td>\n",
       "      <td>377</td>\n",
       "      <td>1</td>\n",
       "      <td>success</td>\n",
       "      <td>yes</td>\n",
       "    </tr>\n",
       "    <tr>\n",
       "      <th>3</th>\n",
       "      <td>38925327</td>\n",
       "      <td>Gateshead</td>\n",
       "      <td>UK</td>\n",
       "      <td>43</td>\n",
       "      <td>services</td>\n",
       "      <td>single</td>\n",
       "      <td>secondary</td>\n",
       "      <td>no</td>\n",
       "      <td>550</td>\n",
       "      <td>yes</td>\n",
       "      <td>no</td>\n",
       "      <td>cellular</td>\n",
       "      <td>4</td>\n",
       "      <td>13</td>\n",
       "      <td>may</td>\n",
       "      <td>2</td>\n",
       "      <td>-1</td>\n",
       "      <td>0</td>\n",
       "      <td>unknown</td>\n",
       "      <td>no</td>\n",
       "    </tr>\n",
       "    <tr>\n",
       "      <th>4</th>\n",
       "      <td>30560733</td>\n",
       "      <td>Eastbourne</td>\n",
       "      <td>UK</td>\n",
       "      <td>35</td>\n",
       "      <td>technician</td>\n",
       "      <td>single</td>\n",
       "      <td>secondary</td>\n",
       "      <td>no</td>\n",
       "      <td>344</td>\n",
       "      <td>no</td>\n",
       "      <td>no</td>\n",
       "      <td>cellular</td>\n",
       "      <td>2</td>\n",
       "      <td>27</td>\n",
       "      <td>aug</td>\n",
       "      <td>16</td>\n",
       "      <td>-1</td>\n",
       "      <td>0</td>\n",
       "      <td>unknown</td>\n",
       "      <td>yes</td>\n",
       "    </tr>\n",
       "  </tbody>\n",
       "</table>\n",
       "</div>"
      ],
      "text/plain": [
       "   accountID             town country  age         job   marital  education  \\\n",
       "0   24634684          Crawley      UK   39  management   married   tertiary   \n",
       "1   80795929  Southend-on-Sea      UK   53   housemaid   married    primary   \n",
       "2   30786087       Gillingham      UK   79     retired  divorced    primary   \n",
       "3   38925327        Gateshead      UK   43    services    single  secondary   \n",
       "4   30560733       Eastbourne      UK   35  technician    single  secondary   \n",
       "\n",
       "  defaulted?  current_balance housing has_loan last_contact  cc_tr  \\\n",
       "0         no             -190      no      yes      unknown      1   \n",
       "1         no              362      no       no     cellular      1   \n",
       "2         no             2787      no       no    telephone      5   \n",
       "3         no              550     yes       no     cellular      4   \n",
       "4         no              344      no       no     cellular      2   \n",
       "\n",
       "   last_contact_day last_contact_month  campaign  days_since_last_contact  \\\n",
       "0                11                jun         8                       -1   \n",
       "1                28                jul         2                       -1   \n",
       "2                13                jul         1                      377   \n",
       "3                13                may         2                       -1   \n",
       "4                27                aug        16                       -1   \n",
       "\n",
       "   previous poutcome made_deposit  \n",
       "0         0  unknown          yes  \n",
       "1         0  unknown          yes  \n",
       "2         1  success          yes  \n",
       "3         0  unknown           no  \n",
       "4         0  unknown          yes  "
      ]
     },
     "execution_count": 249,
     "metadata": {},
     "output_type": "execute_result"
    }
   ],
   "source": [
    "df.head()"
   ]
  },
  {
   "cell_type": "code",
   "execution_count": 250,
   "metadata": {},
   "outputs": [],
   "source": [
    "## Drop unimportant features\n",
    "df2 = df.drop(columns = ['accountID', 'country', 'cc_tr'], axis =1)"
   ]
  },
  {
   "cell_type": "code",
   "execution_count": 251,
   "metadata": {},
   "outputs": [
    {
     "data": {
      "text/html": [
       "<div>\n",
       "<style scoped>\n",
       "    .dataframe tbody tr th:only-of-type {\n",
       "        vertical-align: middle;\n",
       "    }\n",
       "\n",
       "    .dataframe tbody tr th {\n",
       "        vertical-align: top;\n",
       "    }\n",
       "\n",
       "    .dataframe thead th {\n",
       "        text-align: right;\n",
       "    }\n",
       "</style>\n",
       "<table border=\"1\" class=\"dataframe\">\n",
       "  <thead>\n",
       "    <tr style=\"text-align: right;\">\n",
       "      <th></th>\n",
       "      <th>town</th>\n",
       "      <th>age</th>\n",
       "      <th>job</th>\n",
       "      <th>marital</th>\n",
       "      <th>education</th>\n",
       "      <th>defaulted?</th>\n",
       "      <th>current_balance</th>\n",
       "      <th>housing</th>\n",
       "      <th>has_loan</th>\n",
       "      <th>last_contact</th>\n",
       "      <th>last_contact_day</th>\n",
       "      <th>last_contact_month</th>\n",
       "      <th>campaign</th>\n",
       "      <th>days_since_last_contact</th>\n",
       "      <th>previous</th>\n",
       "      <th>poutcome</th>\n",
       "      <th>made_deposit</th>\n",
       "    </tr>\n",
       "  </thead>\n",
       "  <tbody>\n",
       "    <tr>\n",
       "      <th>0</th>\n",
       "      <td>Crawley</td>\n",
       "      <td>39</td>\n",
       "      <td>management</td>\n",
       "      <td>married</td>\n",
       "      <td>tertiary</td>\n",
       "      <td>no</td>\n",
       "      <td>-190</td>\n",
       "      <td>no</td>\n",
       "      <td>yes</td>\n",
       "      <td>unknown</td>\n",
       "      <td>11</td>\n",
       "      <td>jun</td>\n",
       "      <td>8</td>\n",
       "      <td>-1</td>\n",
       "      <td>0</td>\n",
       "      <td>unknown</td>\n",
       "      <td>yes</td>\n",
       "    </tr>\n",
       "    <tr>\n",
       "      <th>1</th>\n",
       "      <td>Southend-on-Sea</td>\n",
       "      <td>53</td>\n",
       "      <td>housemaid</td>\n",
       "      <td>married</td>\n",
       "      <td>primary</td>\n",
       "      <td>no</td>\n",
       "      <td>362</td>\n",
       "      <td>no</td>\n",
       "      <td>no</td>\n",
       "      <td>cellular</td>\n",
       "      <td>28</td>\n",
       "      <td>jul</td>\n",
       "      <td>2</td>\n",
       "      <td>-1</td>\n",
       "      <td>0</td>\n",
       "      <td>unknown</td>\n",
       "      <td>yes</td>\n",
       "    </tr>\n",
       "    <tr>\n",
       "      <th>2</th>\n",
       "      <td>Gillingham</td>\n",
       "      <td>79</td>\n",
       "      <td>retired</td>\n",
       "      <td>divorced</td>\n",
       "      <td>primary</td>\n",
       "      <td>no</td>\n",
       "      <td>2787</td>\n",
       "      <td>no</td>\n",
       "      <td>no</td>\n",
       "      <td>telephone</td>\n",
       "      <td>13</td>\n",
       "      <td>jul</td>\n",
       "      <td>1</td>\n",
       "      <td>377</td>\n",
       "      <td>1</td>\n",
       "      <td>success</td>\n",
       "      <td>yes</td>\n",
       "    </tr>\n",
       "    <tr>\n",
       "      <th>3</th>\n",
       "      <td>Gateshead</td>\n",
       "      <td>43</td>\n",
       "      <td>services</td>\n",
       "      <td>single</td>\n",
       "      <td>secondary</td>\n",
       "      <td>no</td>\n",
       "      <td>550</td>\n",
       "      <td>yes</td>\n",
       "      <td>no</td>\n",
       "      <td>cellular</td>\n",
       "      <td>13</td>\n",
       "      <td>may</td>\n",
       "      <td>2</td>\n",
       "      <td>-1</td>\n",
       "      <td>0</td>\n",
       "      <td>unknown</td>\n",
       "      <td>no</td>\n",
       "    </tr>\n",
       "    <tr>\n",
       "      <th>4</th>\n",
       "      <td>Eastbourne</td>\n",
       "      <td>35</td>\n",
       "      <td>technician</td>\n",
       "      <td>single</td>\n",
       "      <td>secondary</td>\n",
       "      <td>no</td>\n",
       "      <td>344</td>\n",
       "      <td>no</td>\n",
       "      <td>no</td>\n",
       "      <td>cellular</td>\n",
       "      <td>27</td>\n",
       "      <td>aug</td>\n",
       "      <td>16</td>\n",
       "      <td>-1</td>\n",
       "      <td>0</td>\n",
       "      <td>unknown</td>\n",
       "      <td>yes</td>\n",
       "    </tr>\n",
       "  </tbody>\n",
       "</table>\n",
       "</div>"
      ],
      "text/plain": [
       "              town  age         job   marital  education defaulted?  \\\n",
       "0          Crawley   39  management   married   tertiary         no   \n",
       "1  Southend-on-Sea   53   housemaid   married    primary         no   \n",
       "2       Gillingham   79     retired  divorced    primary         no   \n",
       "3        Gateshead   43    services    single  secondary         no   \n",
       "4       Eastbourne   35  technician    single  secondary         no   \n",
       "\n",
       "   current_balance housing has_loan last_contact  last_contact_day  \\\n",
       "0             -190      no      yes      unknown                11   \n",
       "1              362      no       no     cellular                28   \n",
       "2             2787      no       no    telephone                13   \n",
       "3              550     yes       no     cellular                13   \n",
       "4              344      no       no     cellular                27   \n",
       "\n",
       "  last_contact_month  campaign  days_since_last_contact  previous poutcome  \\\n",
       "0                jun         8                       -1         0  unknown   \n",
       "1                jul         2                       -1         0  unknown   \n",
       "2                jul         1                      377         1  success   \n",
       "3                may         2                       -1         0  unknown   \n",
       "4                aug        16                       -1         0  unknown   \n",
       "\n",
       "  made_deposit  \n",
       "0          yes  \n",
       "1          yes  \n",
       "2          yes  \n",
       "3           no  \n",
       "4          yes  "
      ]
     },
     "execution_count": 251,
     "metadata": {},
     "output_type": "execute_result"
    }
   ],
   "source": [
    "df2.head()"
   ]
  },
  {
   "cell_type": "markdown",
   "metadata": {},
   "source": [
    "# 3. Data Preperation"
   ]
  },
  {
   "cell_type": "markdown",
   "metadata": {},
   "source": [
    "## 3.1 Correct mistyped or corrupted enteries"
   ]
  },
  {
   "cell_type": "code",
   "execution_count": 252,
   "metadata": {},
   "outputs": [
    {
     "data": {
      "text/plain": [
       "town                        101\n",
       "age                          75\n",
       "job                          12\n",
       "marital                       3\n",
       "education                     4\n",
       "defaulted?                    2\n",
       "current_balance            3208\n",
       "housing                       2\n",
       "has_loan                      3\n",
       "last_contact                  4\n",
       "last_contact_day             31\n",
       "last_contact_month           13\n",
       "campaign                     36\n",
       "days_since_last_contact     434\n",
       "previous                     33\n",
       "poutcome                      4\n",
       "made_deposit                  2\n",
       "dtype: int64"
      ]
     },
     "execution_count": 252,
     "metadata": {},
     "output_type": "execute_result"
    }
   ],
   "source": [
    "df2.nunique()"
   ]
  },
  {
   "cell_type": "code",
   "execution_count": 253,
   "metadata": {},
   "outputs": [
    {
     "name": "stdout",
     "output_type": "stream",
     "text": [
      "['yes' 'no' 'n']\n"
     ]
    }
   ],
   "source": [
    "print(df2['has_loan'].unique())"
   ]
  },
  {
   "cell_type": "code",
   "execution_count": 254,
   "metadata": {},
   "outputs": [],
   "source": [
    "df2['has_loan']= df2['has_loan'].replace(['n'], 'no')\n",
    "df2['last_contact_month'] = df2['last_contact_month'].replace(['j'], 'jun')"
   ]
  },
  {
   "cell_type": "code",
   "execution_count": 255,
   "metadata": {},
   "outputs": [
    {
     "data": {
      "text/plain": [
       "town                        101\n",
       "age                          75\n",
       "job                          12\n",
       "marital                       3\n",
       "education                     4\n",
       "defaulted?                    2\n",
       "current_balance            3208\n",
       "housing                       2\n",
       "has_loan                      2\n",
       "last_contact                  4\n",
       "last_contact_day             31\n",
       "last_contact_month           12\n",
       "campaign                     36\n",
       "days_since_last_contact     434\n",
       "previous                     33\n",
       "poutcome                      4\n",
       "made_deposit                  2\n",
       "dtype: int64"
      ]
     },
     "execution_count": 255,
     "metadata": {},
     "output_type": "execute_result"
    }
   ],
   "source": [
    "df2.nunique()"
   ]
  },
  {
   "cell_type": "markdown",
   "metadata": {},
   "source": [
    "## 3.2 Handle Missing Data"
   ]
  },
  {
   "cell_type": "code",
   "execution_count": 256,
   "metadata": {},
   "outputs": [
    {
     "data": {
      "text/plain": [
       "town                       0\n",
       "age                        0\n",
       "job                        0\n",
       "marital                    0\n",
       "education                  0\n",
       "defaulted?                 0\n",
       "current_balance            0\n",
       "housing                    0\n",
       "has_loan                   0\n",
       "last_contact               0\n",
       "last_contact_day           0\n",
       "last_contact_month         0\n",
       "campaign                   0\n",
       "days_since_last_contact    0\n",
       "previous                   0\n",
       "poutcome                   0\n",
       "made_deposit               0\n",
       "dtype: int64"
      ]
     },
     "execution_count": 256,
     "metadata": {},
     "output_type": "execute_result"
    }
   ],
   "source": [
    "df2.isnull().sum()"
   ]
  },
  {
   "cell_type": "code",
   "execution_count": 257,
   "metadata": {},
   "outputs": [
    {
     "data": {
      "text/plain": [
       "<AxesSubplot:>"
      ]
     },
     "execution_count": 257,
     "metadata": {},
     "output_type": "execute_result"
    },
    {
     "data": {
      "image/png": "[encoded data removed]",
      "text/plain": [
       "<Figure size 432x288 with 1 Axes>"
      ]
     },
     "metadata": {},
     "output_type": "display_data"
    }
   ],
   "source": [
    "sns.heatmap(df2.isnull(), yticklabels=False, cbar = False, cmap = 'viridis')"
   ]
  },
  {
   "cell_type": "markdown",
   "metadata": {},
   "source": [
    "## 3.3 Check Correlation of features"
   ]
  },
  {
   "cell_type": "code",
   "execution_count": 258,
   "metadata": {},
   "outputs": [
    {
     "data": {
      "text/plain": [
       "<AxesSubplot:>"
      ]
     },
     "execution_count": 258,
     "metadata": {},
     "output_type": "execute_result"
    },
    {
     "data": {
      "image/png": "[encoded data removed]",
      "text/plain": [
       "<Figure size 720x432 with 2 Axes>"
      ]
     },
     "metadata": {},
     "output_type": "display_data"
    }
   ],
   "source": [
    "plt.subplots(figsize = (10,6))\n",
    "corr = df2.corr()\n",
    "sns.heatmap(corr, annot=True, cmap = 'viridis')"
   ]
  },
  {
   "cell_type": "code",
   "execution_count": 259,
   "metadata": {},
   "outputs": [
    {
     "data": {
      "text/html": [
       "<div>\n",
       "<style scoped>\n",
       "    .dataframe tbody tr th:only-of-type {\n",
       "        vertical-align: middle;\n",
       "    }\n",
       "\n",
       "    .dataframe tbody tr th {\n",
       "        vertical-align: top;\n",
       "    }\n",
       "\n",
       "    .dataframe thead th {\n",
       "        text-align: right;\n",
       "    }\n",
       "</style>\n",
       "<table border=\"1\" class=\"dataframe\">\n",
       "  <thead>\n",
       "    <tr style=\"text-align: right;\">\n",
       "      <th></th>\n",
       "      <th>town</th>\n",
       "      <th>age</th>\n",
       "      <th>job</th>\n",
       "      <th>marital</th>\n",
       "      <th>education</th>\n",
       "      <th>defaulted?</th>\n",
       "      <th>current_balance</th>\n",
       "      <th>housing</th>\n",
       "      <th>has_loan</th>\n",
       "      <th>last_contact</th>\n",
       "      <th>last_contact_day</th>\n",
       "      <th>last_contact_month</th>\n",
       "      <th>campaign</th>\n",
       "      <th>days_since_last_contact</th>\n",
       "      <th>previous</th>\n",
       "      <th>poutcome</th>\n",
       "      <th>made_deposit</th>\n",
       "    </tr>\n",
       "  </thead>\n",
       "  <tbody>\n",
       "    <tr>\n",
       "      <th>0</th>\n",
       "      <td>Crawley</td>\n",
       "      <td>39</td>\n",
       "      <td>management</td>\n",
       "      <td>married</td>\n",
       "      <td>tertiary</td>\n",
       "      <td>no</td>\n",
       "      <td>-190</td>\n",
       "      <td>no</td>\n",
       "      <td>yes</td>\n",
       "      <td>unknown</td>\n",
       "      <td>11</td>\n",
       "      <td>jun</td>\n",
       "      <td>8</td>\n",
       "      <td>-1</td>\n",
       "      <td>0</td>\n",
       "      <td>unknown</td>\n",
       "      <td>yes</td>\n",
       "    </tr>\n",
       "    <tr>\n",
       "      <th>1</th>\n",
       "      <td>Southend-on-Sea</td>\n",
       "      <td>53</td>\n",
       "      <td>housemaid</td>\n",
       "      <td>married</td>\n",
       "      <td>primary</td>\n",
       "      <td>no</td>\n",
       "      <td>362</td>\n",
       "      <td>no</td>\n",
       "      <td>no</td>\n",
       "      <td>cellular</td>\n",
       "      <td>28</td>\n",
       "      <td>jul</td>\n",
       "      <td>2</td>\n",
       "      <td>-1</td>\n",
       "      <td>0</td>\n",
       "      <td>unknown</td>\n",
       "      <td>yes</td>\n",
       "    </tr>\n",
       "    <tr>\n",
       "      <th>2</th>\n",
       "      <td>Gillingham</td>\n",
       "      <td>79</td>\n",
       "      <td>retired</td>\n",
       "      <td>divorced</td>\n",
       "      <td>primary</td>\n",
       "      <td>no</td>\n",
       "      <td>2787</td>\n",
       "      <td>no</td>\n",
       "      <td>no</td>\n",
       "      <td>telephone</td>\n",
       "      <td>13</td>\n",
       "      <td>jul</td>\n",
       "      <td>1</td>\n",
       "      <td>377</td>\n",
       "      <td>1</td>\n",
       "      <td>success</td>\n",
       "      <td>yes</td>\n",
       "    </tr>\n",
       "    <tr>\n",
       "      <th>3</th>\n",
       "      <td>Gateshead</td>\n",
       "      <td>43</td>\n",
       "      <td>services</td>\n",
       "      <td>single</td>\n",
       "      <td>secondary</td>\n",
       "      <td>no</td>\n",
       "      <td>550</td>\n",
       "      <td>yes</td>\n",
       "      <td>no</td>\n",
       "      <td>cellular</td>\n",
       "      <td>13</td>\n",
       "      <td>may</td>\n",
       "      <td>2</td>\n",
       "      <td>-1</td>\n",
       "      <td>0</td>\n",
       "      <td>unknown</td>\n",
       "      <td>no</td>\n",
       "    </tr>\n",
       "    <tr>\n",
       "      <th>4</th>\n",
       "      <td>Eastbourne</td>\n",
       "      <td>35</td>\n",
       "      <td>technician</td>\n",
       "      <td>single</td>\n",
       "      <td>secondary</td>\n",
       "      <td>no</td>\n",
       "      <td>344</td>\n",
       "      <td>no</td>\n",
       "      <td>no</td>\n",
       "      <td>cellular</td>\n",
       "      <td>27</td>\n",
       "      <td>aug</td>\n",
       "      <td>16</td>\n",
       "      <td>-1</td>\n",
       "      <td>0</td>\n",
       "      <td>unknown</td>\n",
       "      <td>yes</td>\n",
       "    </tr>\n",
       "  </tbody>\n",
       "</table>\n",
       "</div>"
      ],
      "text/plain": [
       "              town  age         job   marital  education defaulted?  \\\n",
       "0          Crawley   39  management   married   tertiary         no   \n",
       "1  Southend-on-Sea   53   housemaid   married    primary         no   \n",
       "2       Gillingham   79     retired  divorced    primary         no   \n",
       "3        Gateshead   43    services    single  secondary         no   \n",
       "4       Eastbourne   35  technician    single  secondary         no   \n",
       "\n",
       "   current_balance housing has_loan last_contact  last_contact_day  \\\n",
       "0             -190      no      yes      unknown                11   \n",
       "1              362      no       no     cellular                28   \n",
       "2             2787      no       no    telephone                13   \n",
       "3              550     yes       no     cellular                13   \n",
       "4              344      no       no     cellular                27   \n",
       "\n",
       "  last_contact_month  campaign  days_since_last_contact  previous poutcome  \\\n",
       "0                jun         8                       -1         0  unknown   \n",
       "1                jul         2                       -1         0  unknown   \n",
       "2                jul         1                      377         1  success   \n",
       "3                may         2                       -1         0  unknown   \n",
       "4                aug        16                       -1         0  unknown   \n",
       "\n",
       "  made_deposit  \n",
       "0          yes  \n",
       "1          yes  \n",
       "2          yes  \n",
       "3           no  \n",
       "4          yes  "
      ]
     },
     "execution_count": 259,
     "metadata": {},
     "output_type": "execute_result"
    }
   ],
   "source": [
    "df2.head()"
   ]
  },
  {
   "cell_type": "markdown",
   "metadata": {},
   "source": [
    "## 3.4 We use LabelEncoder to encode binaray categorical features"
   ]
  },
  {
   "cell_type": "code",
   "execution_count": 260,
   "metadata": {},
   "outputs": [],
   "source": [
    "from sklearn.preprocessing import LabelEncoder\n",
    "le = LabelEncoder()\n",
    "df2['defaulted?'] = le.fit_transform(df2['defaulted?'])\n",
    "df2['housing'] = le.fit_transform(df2['housing'])\n",
    "df2['has_loan'] = le.fit_transform(df2['has_loan'])\n",
    "df2['made_deposit'] = le.fit_transform(df2['made_deposit'])"
   ]
  },
  {
   "cell_type": "code",
   "execution_count": 261,
   "metadata": {},
   "outputs": [
    {
     "data": {
      "text/html": [
       "<div>\n",
       "<style scoped>\n",
       "    .dataframe tbody tr th:only-of-type {\n",
       "        vertical-align: middle;\n",
       "    }\n",
       "\n",
       "    .dataframe tbody tr th {\n",
       "        vertical-align: top;\n",
       "    }\n",
       "\n",
       "    .dataframe thead th {\n",
       "        text-align: right;\n",
       "    }\n",
       "</style>\n",
       "<table border=\"1\" class=\"dataframe\">\n",
       "  <thead>\n",
       "    <tr style=\"text-align: right;\">\n",
       "      <th></th>\n",
       "      <th>town</th>\n",
       "      <th>age</th>\n",
       "      <th>job</th>\n",
       "      <th>marital</th>\n",
       "      <th>education</th>\n",
       "      <th>defaulted?</th>\n",
       "      <th>current_balance</th>\n",
       "      <th>housing</th>\n",
       "      <th>has_loan</th>\n",
       "      <th>last_contact</th>\n",
       "      <th>last_contact_day</th>\n",
       "      <th>last_contact_month</th>\n",
       "      <th>campaign</th>\n",
       "      <th>days_since_last_contact</th>\n",
       "      <th>previous</th>\n",
       "      <th>poutcome</th>\n",
       "      <th>made_deposit</th>\n",
       "    </tr>\n",
       "  </thead>\n",
       "  <tbody>\n",
       "    <tr>\n",
       "      <th>0</th>\n",
       "      <td>Crawley</td>\n",
       "      <td>39</td>\n",
       "      <td>management</td>\n",
       "      <td>married</td>\n",
       "      <td>tertiary</td>\n",
       "      <td>0</td>\n",
       "      <td>-190</td>\n",
       "      <td>0</td>\n",
       "      <td>1</td>\n",
       "      <td>unknown</td>\n",
       "      <td>11</td>\n",
       "      <td>jun</td>\n",
       "      <td>8</td>\n",
       "      <td>-1</td>\n",
       "      <td>0</td>\n",
       "      <td>unknown</td>\n",
       "      <td>1</td>\n",
       "    </tr>\n",
       "    <tr>\n",
       "      <th>1</th>\n",
       "      <td>Southend-on-Sea</td>\n",
       "      <td>53</td>\n",
       "      <td>housemaid</td>\n",
       "      <td>married</td>\n",
       "      <td>primary</td>\n",
       "      <td>0</td>\n",
       "      <td>362</td>\n",
       "      <td>0</td>\n",
       "      <td>0</td>\n",
       "      <td>cellular</td>\n",
       "      <td>28</td>\n",
       "      <td>jul</td>\n",
       "      <td>2</td>\n",
       "      <td>-1</td>\n",
       "      <td>0</td>\n",
       "      <td>unknown</td>\n",
       "      <td>1</td>\n",
       "    </tr>\n",
       "    <tr>\n",
       "      <th>2</th>\n",
       "      <td>Gillingham</td>\n",
       "      <td>79</td>\n",
       "      <td>retired</td>\n",
       "      <td>divorced</td>\n",
       "      <td>primary</td>\n",
       "      <td>0</td>\n",
       "      <td>2787</td>\n",
       "      <td>0</td>\n",
       "      <td>0</td>\n",
       "      <td>telephone</td>\n",
       "      <td>13</td>\n",
       "      <td>jul</td>\n",
       "      <td>1</td>\n",
       "      <td>377</td>\n",
       "      <td>1</td>\n",
       "      <td>success</td>\n",
       "      <td>1</td>\n",
       "    </tr>\n",
       "    <tr>\n",
       "      <th>3</th>\n",
       "      <td>Gateshead</td>\n",
       "      <td>43</td>\n",
       "      <td>services</td>\n",
       "      <td>single</td>\n",
       "      <td>secondary</td>\n",
       "      <td>0</td>\n",
       "      <td>550</td>\n",
       "      <td>1</td>\n",
       "      <td>0</td>\n",
       "      <td>cellular</td>\n",
       "      <td>13</td>\n",
       "      <td>may</td>\n",
       "      <td>2</td>\n",
       "      <td>-1</td>\n",
       "      <td>0</td>\n",
       "      <td>unknown</td>\n",
       "      <td>0</td>\n",
       "    </tr>\n",
       "    <tr>\n",
       "      <th>4</th>\n",
       "      <td>Eastbourne</td>\n",
       "      <td>35</td>\n",
       "      <td>technician</td>\n",
       "      <td>single</td>\n",
       "      <td>secondary</td>\n",
       "      <td>0</td>\n",
       "      <td>344</td>\n",
       "      <td>0</td>\n",
       "      <td>0</td>\n",
       "      <td>cellular</td>\n",
       "      <td>27</td>\n",
       "      <td>aug</td>\n",
       "      <td>16</td>\n",
       "      <td>-1</td>\n",
       "      <td>0</td>\n",
       "      <td>unknown</td>\n",
       "      <td>1</td>\n",
       "    </tr>\n",
       "  </tbody>\n",
       "</table>\n",
       "</div>"
      ],
      "text/plain": [
       "              town  age         job   marital  education  defaulted?  \\\n",
       "0          Crawley   39  management   married   tertiary           0   \n",
       "1  Southend-on-Sea   53   housemaid   married    primary           0   \n",
       "2       Gillingham   79     retired  divorced    primary           0   \n",
       "3        Gateshead   43    services    single  secondary           0   \n",
       "4       Eastbourne   35  technician    single  secondary           0   \n",
       "\n",
       "   current_balance  housing  has_loan last_contact  last_contact_day  \\\n",
       "0             -190        0         1      unknown                11   \n",
       "1              362        0         0     cellular                28   \n",
       "2             2787        0         0    telephone                13   \n",
       "3              550        1         0     cellular                13   \n",
       "4              344        0         0     cellular                27   \n",
       "\n",
       "  last_contact_month  campaign  days_since_last_contact  previous poutcome  \\\n",
       "0                jun         8                       -1         0  unknown   \n",
       "1                jul         2                       -1         0  unknown   \n",
       "2                jul         1                      377         1  success   \n",
       "3                may         2                       -1         0  unknown   \n",
       "4                aug        16                       -1         0  unknown   \n",
       "\n",
       "   made_deposit  \n",
       "0             1  \n",
       "1             1  \n",
       "2             1  \n",
       "3             0  \n",
       "4             1  "
      ]
     },
     "execution_count": 261,
     "metadata": {},
     "output_type": "execute_result"
    }
   ],
   "source": [
    "df2.head()"
   ]
  },
  {
   "cell_type": "markdown",
   "metadata": {},
   "source": [
    "## 3.5 Encode Other categorical features with more than one types (OneHot Encoding)"
   ]
  },
  {
   "cell_type": "code",
   "execution_count": 262,
   "metadata": {},
   "outputs": [],
   "source": [
    "town_enc = pd.get_dummies(df2['town'], drop_first=True)\n",
    "job_enc = pd.get_dummies(df2['job'], drop_first=True)\n",
    "marital_enc = pd.get_dummies(df2['marital'], drop_first=True)\n",
    "education_enc = pd.get_dummies(df2['education'], drop_first=True)\n",
    "last_contact_enc = pd.get_dummies(df2['last_contact'], drop_first=True)\n",
    "last_contact_month_enc = pd.get_dummies(df2['last_contact_month'], drop_first=True)\n",
    "poutcome_enc = pd.get_dummies(df2['poutcome'], drop_first=True)"
   ]
  },
  {
   "cell_type": "code",
   "execution_count": 263,
   "metadata": {},
   "outputs": [],
   "source": [
    "df2.drop(['town', 'job', 'marital', 'education', 'last_contact', 'last_contact_month','poutcome'], axis = 1, inplace = True)"
   ]
  },
  {
   "cell_type": "code",
   "execution_count": 264,
   "metadata": {},
   "outputs": [
    {
     "data": {
      "text/html": [
       "<div>\n",
       "<style scoped>\n",
       "    .dataframe tbody tr th:only-of-type {\n",
       "        vertical-align: middle;\n",
       "    }\n",
       "\n",
       "    .dataframe tbody tr th {\n",
       "        vertical-align: top;\n",
       "    }\n",
       "\n",
       "    .dataframe thead th {\n",
       "        text-align: right;\n",
       "    }\n",
       "</style>\n",
       "<table border=\"1\" class=\"dataframe\">\n",
       "  <thead>\n",
       "    <tr style=\"text-align: right;\">\n",
       "      <th></th>\n",
       "      <th>age</th>\n",
       "      <th>defaulted?</th>\n",
       "      <th>current_balance</th>\n",
       "      <th>housing</th>\n",
       "      <th>has_loan</th>\n",
       "      <th>last_contact_day</th>\n",
       "      <th>campaign</th>\n",
       "      <th>days_since_last_contact</th>\n",
       "      <th>previous</th>\n",
       "      <th>made_deposit</th>\n",
       "    </tr>\n",
       "  </thead>\n",
       "  <tbody>\n",
       "    <tr>\n",
       "      <th>0</th>\n",
       "      <td>39</td>\n",
       "      <td>0</td>\n",
       "      <td>-190</td>\n",
       "      <td>0</td>\n",
       "      <td>1</td>\n",
       "      <td>11</td>\n",
       "      <td>8</td>\n",
       "      <td>-1</td>\n",
       "      <td>0</td>\n",
       "      <td>1</td>\n",
       "    </tr>\n",
       "    <tr>\n",
       "      <th>1</th>\n",
       "      <td>53</td>\n",
       "      <td>0</td>\n",
       "      <td>362</td>\n",
       "      <td>0</td>\n",
       "      <td>0</td>\n",
       "      <td>28</td>\n",
       "      <td>2</td>\n",
       "      <td>-1</td>\n",
       "      <td>0</td>\n",
       "      <td>1</td>\n",
       "    </tr>\n",
       "    <tr>\n",
       "      <th>2</th>\n",
       "      <td>79</td>\n",
       "      <td>0</td>\n",
       "      <td>2787</td>\n",
       "      <td>0</td>\n",
       "      <td>0</td>\n",
       "      <td>13</td>\n",
       "      <td>1</td>\n",
       "      <td>377</td>\n",
       "      <td>1</td>\n",
       "      <td>1</td>\n",
       "    </tr>\n",
       "    <tr>\n",
       "      <th>3</th>\n",
       "      <td>43</td>\n",
       "      <td>0</td>\n",
       "      <td>550</td>\n",
       "      <td>1</td>\n",
       "      <td>0</td>\n",
       "      <td>13</td>\n",
       "      <td>2</td>\n",
       "      <td>-1</td>\n",
       "      <td>0</td>\n",
       "      <td>0</td>\n",
       "    </tr>\n",
       "    <tr>\n",
       "      <th>4</th>\n",
       "      <td>35</td>\n",
       "      <td>0</td>\n",
       "      <td>344</td>\n",
       "      <td>0</td>\n",
       "      <td>0</td>\n",
       "      <td>27</td>\n",
       "      <td>16</td>\n",
       "      <td>-1</td>\n",
       "      <td>0</td>\n",
       "      <td>1</td>\n",
       "    </tr>\n",
       "  </tbody>\n",
       "</table>\n",
       "</div>"
      ],
      "text/plain": [
       "   age  defaulted?  current_balance  housing  has_loan  last_contact_day  \\\n",
       "0   39           0             -190        0         1                11   \n",
       "1   53           0              362        0         0                28   \n",
       "2   79           0             2787        0         0                13   \n",
       "3   43           0              550        1         0                13   \n",
       "4   35           0              344        0         0                27   \n",
       "\n",
       "   campaign  days_since_last_contact  previous  made_deposit  \n",
       "0         8                       -1         0             1  \n",
       "1         2                       -1         0             1  \n",
       "2         1                      377         1             1  \n",
       "3         2                       -1         0             0  \n",
       "4        16                       -1         0             1  "
      ]
     },
     "execution_count": 264,
     "metadata": {},
     "output_type": "execute_result"
    }
   ],
   "source": [
    "df2.head()"
   ]
  },
  {
   "cell_type": "code",
   "execution_count": 265,
   "metadata": {},
   "outputs": [],
   "source": [
    "df2 = pd.concat([df2, town_enc, job_enc, marital_enc, education_enc, last_contact_enc, last_contact_month_enc, poutcome_enc], axis = 1)"
   ]
  },
  {
   "cell_type": "code",
   "execution_count": 266,
   "metadata": {},
   "outputs": [
    {
     "data": {
      "text/html": [
       "<div>\n",
       "<style scoped>\n",
       "    .dataframe tbody tr th:only-of-type {\n",
       "        vertical-align: middle;\n",
       "    }\n",
       "\n",
       "    .dataframe tbody tr th {\n",
       "        vertical-align: top;\n",
       "    }\n",
       "\n",
       "    .dataframe thead th {\n",
       "        text-align: right;\n",
       "    }\n",
       "</style>\n",
       "<table border=\"1\" class=\"dataframe\">\n",
       "  <thead>\n",
       "    <tr style=\"text-align: right;\">\n",
       "      <th></th>\n",
       "      <th>age</th>\n",
       "      <th>defaulted?</th>\n",
       "      <th>current_balance</th>\n",
       "      <th>housing</th>\n",
       "      <th>has_loan</th>\n",
       "      <th>last_contact_day</th>\n",
       "      <th>campaign</th>\n",
       "      <th>days_since_last_contact</th>\n",
       "      <th>previous</th>\n",
       "      <th>made_deposit</th>\n",
       "      <th>Barnsley</th>\n",
       "      <th>Basildon</th>\n",
       "      <th>Basingstoke</th>\n",
       "      <th>Bath</th>\n",
       "      <th>Bedford</th>\n",
       "      <th>Belfast</th>\n",
       "      <th>Birkenhead</th>\n",
       "      <th>Birmingham</th>\n",
       "      <th>Blackburn</th>\n",
       "      <th>Blackpool</th>\n",
       "      <th>...</th>\n",
       "      <th>secondary</th>\n",
       "      <th>tertiary</th>\n",
       "      <th>unknown</th>\n",
       "      <th>cellular</th>\n",
       "      <th>telephone</th>\n",
       "      <th>unknown</th>\n",
       "      <th>aug</th>\n",
       "      <th>dec</th>\n",
       "      <th>feb</th>\n",
       "      <th>jan</th>\n",
       "      <th>jul</th>\n",
       "      <th>jun</th>\n",
       "      <th>mar</th>\n",
       "      <th>may</th>\n",
       "      <th>nov</th>\n",
       "      <th>oct</th>\n",
       "      <th>sep</th>\n",
       "      <th>other</th>\n",
       "      <th>success</th>\n",
       "      <th>unknown</th>\n",
       "    </tr>\n",
       "  </thead>\n",
       "  <tbody>\n",
       "    <tr>\n",
       "      <th>0</th>\n",
       "      <td>39</td>\n",
       "      <td>0</td>\n",
       "      <td>-190</td>\n",
       "      <td>0</td>\n",
       "      <td>1</td>\n",
       "      <td>11</td>\n",
       "      <td>8</td>\n",
       "      <td>-1</td>\n",
       "      <td>0</td>\n",
       "      <td>1</td>\n",
       "      <td>0</td>\n",
       "      <td>0</td>\n",
       "      <td>0</td>\n",
       "      <td>0</td>\n",
       "      <td>0</td>\n",
       "      <td>0</td>\n",
       "      <td>0</td>\n",
       "      <td>0</td>\n",
       "      <td>0</td>\n",
       "      <td>0</td>\n",
       "      <td>...</td>\n",
       "      <td>0</td>\n",
       "      <td>1</td>\n",
       "      <td>0</td>\n",
       "      <td>0</td>\n",
       "      <td>0</td>\n",
       "      <td>1</td>\n",
       "      <td>0</td>\n",
       "      <td>0</td>\n",
       "      <td>0</td>\n",
       "      <td>0</td>\n",
       "      <td>0</td>\n",
       "      <td>1</td>\n",
       "      <td>0</td>\n",
       "      <td>0</td>\n",
       "      <td>0</td>\n",
       "      <td>0</td>\n",
       "      <td>0</td>\n",
       "      <td>0</td>\n",
       "      <td>0</td>\n",
       "      <td>1</td>\n",
       "    </tr>\n",
       "    <tr>\n",
       "      <th>1</th>\n",
       "      <td>53</td>\n",
       "      <td>0</td>\n",
       "      <td>362</td>\n",
       "      <td>0</td>\n",
       "      <td>0</td>\n",
       "      <td>28</td>\n",
       "      <td>2</td>\n",
       "      <td>-1</td>\n",
       "      <td>0</td>\n",
       "      <td>1</td>\n",
       "      <td>0</td>\n",
       "      <td>0</td>\n",
       "      <td>0</td>\n",
       "      <td>0</td>\n",
       "      <td>0</td>\n",
       "      <td>0</td>\n",
       "      <td>0</td>\n",
       "      <td>0</td>\n",
       "      <td>0</td>\n",
       "      <td>0</td>\n",
       "      <td>...</td>\n",
       "      <td>0</td>\n",
       "      <td>0</td>\n",
       "      <td>0</td>\n",
       "      <td>1</td>\n",
       "      <td>0</td>\n",
       "      <td>0</td>\n",
       "      <td>0</td>\n",
       "      <td>0</td>\n",
       "      <td>0</td>\n",
       "      <td>0</td>\n",
       "      <td>1</td>\n",
       "      <td>0</td>\n",
       "      <td>0</td>\n",
       "      <td>0</td>\n",
       "      <td>0</td>\n",
       "      <td>0</td>\n",
       "      <td>0</td>\n",
       "      <td>0</td>\n",
       "      <td>0</td>\n",
       "      <td>1</td>\n",
       "    </tr>\n",
       "    <tr>\n",
       "      <th>2</th>\n",
       "      <td>79</td>\n",
       "      <td>0</td>\n",
       "      <td>2787</td>\n",
       "      <td>0</td>\n",
       "      <td>0</td>\n",
       "      <td>13</td>\n",
       "      <td>1</td>\n",
       "      <td>377</td>\n",
       "      <td>1</td>\n",
       "      <td>1</td>\n",
       "      <td>0</td>\n",
       "      <td>0</td>\n",
       "      <td>0</td>\n",
       "      <td>0</td>\n",
       "      <td>0</td>\n",
       "      <td>0</td>\n",
       "      <td>0</td>\n",
       "      <td>0</td>\n",
       "      <td>0</td>\n",
       "      <td>0</td>\n",
       "      <td>...</td>\n",
       "      <td>0</td>\n",
       "      <td>0</td>\n",
       "      <td>0</td>\n",
       "      <td>0</td>\n",
       "      <td>1</td>\n",
       "      <td>0</td>\n",
       "      <td>0</td>\n",
       "      <td>0</td>\n",
       "      <td>0</td>\n",
       "      <td>0</td>\n",
       "      <td>1</td>\n",
       "      <td>0</td>\n",
       "      <td>0</td>\n",
       "      <td>0</td>\n",
       "      <td>0</td>\n",
       "      <td>0</td>\n",
       "      <td>0</td>\n",
       "      <td>0</td>\n",
       "      <td>1</td>\n",
       "      <td>0</td>\n",
       "    </tr>\n",
       "    <tr>\n",
       "      <th>3</th>\n",
       "      <td>43</td>\n",
       "      <td>0</td>\n",
       "      <td>550</td>\n",
       "      <td>1</td>\n",
       "      <td>0</td>\n",
       "      <td>13</td>\n",
       "      <td>2</td>\n",
       "      <td>-1</td>\n",
       "      <td>0</td>\n",
       "      <td>0</td>\n",
       "      <td>0</td>\n",
       "      <td>0</td>\n",
       "      <td>0</td>\n",
       "      <td>0</td>\n",
       "      <td>0</td>\n",
       "      <td>0</td>\n",
       "      <td>0</td>\n",
       "      <td>0</td>\n",
       "      <td>0</td>\n",
       "      <td>0</td>\n",
       "      <td>...</td>\n",
       "      <td>1</td>\n",
       "      <td>0</td>\n",
       "      <td>0</td>\n",
       "      <td>1</td>\n",
       "      <td>0</td>\n",
       "      <td>0</td>\n",
       "      <td>0</td>\n",
       "      <td>0</td>\n",
       "      <td>0</td>\n",
       "      <td>0</td>\n",
       "      <td>0</td>\n",
       "      <td>0</td>\n",
       "      <td>0</td>\n",
       "      <td>1</td>\n",
       "      <td>0</td>\n",
       "      <td>0</td>\n",
       "      <td>0</td>\n",
       "      <td>0</td>\n",
       "      <td>0</td>\n",
       "      <td>1</td>\n",
       "    </tr>\n",
       "    <tr>\n",
       "      <th>4</th>\n",
       "      <td>35</td>\n",
       "      <td>0</td>\n",
       "      <td>344</td>\n",
       "      <td>0</td>\n",
       "      <td>0</td>\n",
       "      <td>27</td>\n",
       "      <td>16</td>\n",
       "      <td>-1</td>\n",
       "      <td>0</td>\n",
       "      <td>1</td>\n",
       "      <td>0</td>\n",
       "      <td>0</td>\n",
       "      <td>0</td>\n",
       "      <td>0</td>\n",
       "      <td>0</td>\n",
       "      <td>0</td>\n",
       "      <td>0</td>\n",
       "      <td>0</td>\n",
       "      <td>0</td>\n",
       "      <td>0</td>\n",
       "      <td>...</td>\n",
       "      <td>1</td>\n",
       "      <td>0</td>\n",
       "      <td>0</td>\n",
       "      <td>1</td>\n",
       "      <td>0</td>\n",
       "      <td>0</td>\n",
       "      <td>1</td>\n",
       "      <td>0</td>\n",
       "      <td>0</td>\n",
       "      <td>0</td>\n",
       "      <td>0</td>\n",
       "      <td>0</td>\n",
       "      <td>0</td>\n",
       "      <td>0</td>\n",
       "      <td>0</td>\n",
       "      <td>0</td>\n",
       "      <td>0</td>\n",
       "      <td>0</td>\n",
       "      <td>0</td>\n",
       "      <td>1</td>\n",
       "    </tr>\n",
       "  </tbody>\n",
       "</table>\n",
       "<p>5 rows × 143 columns</p>\n",
       "</div>"
      ],
      "text/plain": [
       "   age  defaulted?  current_balance  housing  has_loan  last_contact_day  \\\n",
       "0   39           0             -190        0         1                11   \n",
       "1   53           0              362        0         0                28   \n",
       "2   79           0             2787        0         0                13   \n",
       "3   43           0              550        1         0                13   \n",
       "4   35           0              344        0         0                27   \n",
       "\n",
       "   campaign  days_since_last_contact  previous  made_deposit  Barnsley  \\\n",
       "0         8                       -1         0             1         0   \n",
       "1         2                       -1         0             1         0   \n",
       "2         1                      377         1             1         0   \n",
       "3         2                       -1         0             0         0   \n",
       "4        16                       -1         0             1         0   \n",
       "\n",
       "   Basildon  Basingstoke  Bath  Bedford  Belfast  Birkenhead  Birmingham  \\\n",
       "0         0            0     0        0        0           0           0   \n",
       "1         0            0     0        0        0           0           0   \n",
       "2         0            0     0        0        0           0           0   \n",
       "3         0            0     0        0        0           0           0   \n",
       "4         0            0     0        0        0           0           0   \n",
       "\n",
       "   Blackburn  Blackpool  ...  secondary  tertiary  unknown  cellular  \\\n",
       "0          0          0  ...          0         1        0         0   \n",
       "1          0          0  ...          0         0        0         1   \n",
       "2          0          0  ...          0         0        0         0   \n",
       "3          0          0  ...          1         0        0         1   \n",
       "4          0          0  ...          1         0        0         1   \n",
       "\n",
       "   telephone  unknown  aug  dec  feb  jan  jul  jun  mar  may  nov  oct  sep  \\\n",
       "0          0        1    0    0    0    0    0    1    0    0    0    0    0   \n",
       "1          0        0    0    0    0    0    1    0    0    0    0    0    0   \n",
       "2          1        0    0    0    0    0    1    0    0    0    0    0    0   \n",
       "3          0        0    0    0    0    0    0    0    0    1    0    0    0   \n",
       "4          0        0    1    0    0    0    0    0    0    0    0    0    0   \n",
       "\n",
       "   other  success  unknown  \n",
       "0      0        0        1  \n",
       "1      0        0        1  \n",
       "2      0        1        0  \n",
       "3      0        0        1  \n",
       "4      0        0        1  \n",
       "\n",
       "[5 rows x 143 columns]"
      ]
     },
     "execution_count": 266,
     "metadata": {},
     "output_type": "execute_result"
    }
   ],
   "source": [
    "df2.head()"
   ]
  },
  {
   "cell_type": "code",
   "execution_count": 267,
   "metadata": {},
   "outputs": [
    {
     "data": {
      "text/html": [
       "<div>\n",
       "<style scoped>\n",
       "    .dataframe tbody tr th:only-of-type {\n",
       "        vertical-align: middle;\n",
       "    }\n",
       "\n",
       "    .dataframe tbody tr th {\n",
       "        vertical-align: top;\n",
       "    }\n",
       "\n",
       "    .dataframe thead th {\n",
       "        text-align: right;\n",
       "    }\n",
       "</style>\n",
       "<table border=\"1\" class=\"dataframe\">\n",
       "  <thead>\n",
       "    <tr style=\"text-align: right;\">\n",
       "      <th></th>\n",
       "      <th>age</th>\n",
       "      <th>defaulted?</th>\n",
       "      <th>current_balance</th>\n",
       "      <th>housing</th>\n",
       "      <th>has_loan</th>\n",
       "      <th>last_contact_day</th>\n",
       "      <th>campaign</th>\n",
       "      <th>days_since_last_contact</th>\n",
       "      <th>previous</th>\n",
       "      <th>made_deposit</th>\n",
       "      <th>Barnsley</th>\n",
       "      <th>Basildon</th>\n",
       "      <th>Basingstoke</th>\n",
       "      <th>Bath</th>\n",
       "      <th>Bedford</th>\n",
       "      <th>Belfast</th>\n",
       "      <th>Birkenhead</th>\n",
       "      <th>Birmingham</th>\n",
       "      <th>Blackburn</th>\n",
       "      <th>Blackpool</th>\n",
       "      <th>...</th>\n",
       "      <th>secondary</th>\n",
       "      <th>tertiary</th>\n",
       "      <th>unknown</th>\n",
       "      <th>cellular</th>\n",
       "      <th>telephone</th>\n",
       "      <th>unknown</th>\n",
       "      <th>aug</th>\n",
       "      <th>dec</th>\n",
       "      <th>feb</th>\n",
       "      <th>jan</th>\n",
       "      <th>jul</th>\n",
       "      <th>jun</th>\n",
       "      <th>mar</th>\n",
       "      <th>may</th>\n",
       "      <th>nov</th>\n",
       "      <th>oct</th>\n",
       "      <th>sep</th>\n",
       "      <th>other</th>\n",
       "      <th>success</th>\n",
       "      <th>unknown</th>\n",
       "    </tr>\n",
       "  </thead>\n",
       "  <tbody>\n",
       "    <tr>\n",
       "      <th>0</th>\n",
       "      <td>39</td>\n",
       "      <td>0</td>\n",
       "      <td>-190</td>\n",
       "      <td>0</td>\n",
       "      <td>1</td>\n",
       "      <td>11</td>\n",
       "      <td>8</td>\n",
       "      <td>-1</td>\n",
       "      <td>0</td>\n",
       "      <td>1</td>\n",
       "      <td>0</td>\n",
       "      <td>0</td>\n",
       "      <td>0</td>\n",
       "      <td>0</td>\n",
       "      <td>0</td>\n",
       "      <td>0</td>\n",
       "      <td>0</td>\n",
       "      <td>0</td>\n",
       "      <td>0</td>\n",
       "      <td>0</td>\n",
       "      <td>...</td>\n",
       "      <td>0</td>\n",
       "      <td>1</td>\n",
       "      <td>0</td>\n",
       "      <td>0</td>\n",
       "      <td>0</td>\n",
       "      <td>1</td>\n",
       "      <td>0</td>\n",
       "      <td>0</td>\n",
       "      <td>0</td>\n",
       "      <td>0</td>\n",
       "      <td>0</td>\n",
       "      <td>1</td>\n",
       "      <td>0</td>\n",
       "      <td>0</td>\n",
       "      <td>0</td>\n",
       "      <td>0</td>\n",
       "      <td>0</td>\n",
       "      <td>0</td>\n",
       "      <td>0</td>\n",
       "      <td>1</td>\n",
       "    </tr>\n",
       "    <tr>\n",
       "      <th>1</th>\n",
       "      <td>53</td>\n",
       "      <td>0</td>\n",
       "      <td>362</td>\n",
       "      <td>0</td>\n",
       "      <td>0</td>\n",
       "      <td>28</td>\n",
       "      <td>2</td>\n",
       "      <td>-1</td>\n",
       "      <td>0</td>\n",
       "      <td>1</td>\n",
       "      <td>0</td>\n",
       "      <td>0</td>\n",
       "      <td>0</td>\n",
       "      <td>0</td>\n",
       "      <td>0</td>\n",
       "      <td>0</td>\n",
       "      <td>0</td>\n",
       "      <td>0</td>\n",
       "      <td>0</td>\n",
       "      <td>0</td>\n",
       "      <td>...</td>\n",
       "      <td>0</td>\n",
       "      <td>0</td>\n",
       "      <td>0</td>\n",
       "      <td>1</td>\n",
       "      <td>0</td>\n",
       "      <td>0</td>\n",
       "      <td>0</td>\n",
       "      <td>0</td>\n",
       "      <td>0</td>\n",
       "      <td>0</td>\n",
       "      <td>1</td>\n",
       "      <td>0</td>\n",
       "      <td>0</td>\n",
       "      <td>0</td>\n",
       "      <td>0</td>\n",
       "      <td>0</td>\n",
       "      <td>0</td>\n",
       "      <td>0</td>\n",
       "      <td>0</td>\n",
       "      <td>1</td>\n",
       "    </tr>\n",
       "    <tr>\n",
       "      <th>2</th>\n",
       "      <td>79</td>\n",
       "      <td>0</td>\n",
       "      <td>2787</td>\n",
       "      <td>0</td>\n",
       "      <td>0</td>\n",
       "      <td>13</td>\n",
       "      <td>1</td>\n",
       "      <td>377</td>\n",
       "      <td>1</td>\n",
       "      <td>1</td>\n",
       "      <td>0</td>\n",
       "      <td>0</td>\n",
       "      <td>0</td>\n",
       "      <td>0</td>\n",
       "      <td>0</td>\n",
       "      <td>0</td>\n",
       "      <td>0</td>\n",
       "      <td>0</td>\n",
       "      <td>0</td>\n",
       "      <td>0</td>\n",
       "      <td>...</td>\n",
       "      <td>0</td>\n",
       "      <td>0</td>\n",
       "      <td>0</td>\n",
       "      <td>0</td>\n",
       "      <td>1</td>\n",
       "      <td>0</td>\n",
       "      <td>0</td>\n",
       "      <td>0</td>\n",
       "      <td>0</td>\n",
       "      <td>0</td>\n",
       "      <td>1</td>\n",
       "      <td>0</td>\n",
       "      <td>0</td>\n",
       "      <td>0</td>\n",
       "      <td>0</td>\n",
       "      <td>0</td>\n",
       "      <td>0</td>\n",
       "      <td>0</td>\n",
       "      <td>1</td>\n",
       "      <td>0</td>\n",
       "    </tr>\n",
       "    <tr>\n",
       "      <th>3</th>\n",
       "      <td>43</td>\n",
       "      <td>0</td>\n",
       "      <td>550</td>\n",
       "      <td>1</td>\n",
       "      <td>0</td>\n",
       "      <td>13</td>\n",
       "      <td>2</td>\n",
       "      <td>-1</td>\n",
       "      <td>0</td>\n",
       "      <td>0</td>\n",
       "      <td>0</td>\n",
       "      <td>0</td>\n",
       "      <td>0</td>\n",
       "      <td>0</td>\n",
       "      <td>0</td>\n",
       "      <td>0</td>\n",
       "      <td>0</td>\n",
       "      <td>0</td>\n",
       "      <td>0</td>\n",
       "      <td>0</td>\n",
       "      <td>...</td>\n",
       "      <td>1</td>\n",
       "      <td>0</td>\n",
       "      <td>0</td>\n",
       "      <td>1</td>\n",
       "      <td>0</td>\n",
       "      <td>0</td>\n",
       "      <td>0</td>\n",
       "      <td>0</td>\n",
       "      <td>0</td>\n",
       "      <td>0</td>\n",
       "      <td>0</td>\n",
       "      <td>0</td>\n",
       "      <td>0</td>\n",
       "      <td>1</td>\n",
       "      <td>0</td>\n",
       "      <td>0</td>\n",
       "      <td>0</td>\n",
       "      <td>0</td>\n",
       "      <td>0</td>\n",
       "      <td>1</td>\n",
       "    </tr>\n",
       "    <tr>\n",
       "      <th>4</th>\n",
       "      <td>35</td>\n",
       "      <td>0</td>\n",
       "      <td>344</td>\n",
       "      <td>0</td>\n",
       "      <td>0</td>\n",
       "      <td>27</td>\n",
       "      <td>16</td>\n",
       "      <td>-1</td>\n",
       "      <td>0</td>\n",
       "      <td>1</td>\n",
       "      <td>0</td>\n",
       "      <td>0</td>\n",
       "      <td>0</td>\n",
       "      <td>0</td>\n",
       "      <td>0</td>\n",
       "      <td>0</td>\n",
       "      <td>0</td>\n",
       "      <td>0</td>\n",
       "      <td>0</td>\n",
       "      <td>0</td>\n",
       "      <td>...</td>\n",
       "      <td>1</td>\n",
       "      <td>0</td>\n",
       "      <td>0</td>\n",
       "      <td>1</td>\n",
       "      <td>0</td>\n",
       "      <td>0</td>\n",
       "      <td>1</td>\n",
       "      <td>0</td>\n",
       "      <td>0</td>\n",
       "      <td>0</td>\n",
       "      <td>0</td>\n",
       "      <td>0</td>\n",
       "      <td>0</td>\n",
       "      <td>0</td>\n",
       "      <td>0</td>\n",
       "      <td>0</td>\n",
       "      <td>0</td>\n",
       "      <td>0</td>\n",
       "      <td>0</td>\n",
       "      <td>1</td>\n",
       "    </tr>\n",
       "  </tbody>\n",
       "</table>\n",
       "<p>5 rows × 143 columns</p>\n",
       "</div>"
      ],
      "text/plain": [
       "   age  defaulted?  current_balance  housing  has_loan  last_contact_day  \\\n",
       "0   39           0             -190        0         1                11   \n",
       "1   53           0              362        0         0                28   \n",
       "2   79           0             2787        0         0                13   \n",
       "3   43           0              550        1         0                13   \n",
       "4   35           0              344        0         0                27   \n",
       "\n",
       "   campaign  days_since_last_contact  previous  made_deposit  Barnsley  \\\n",
       "0         8                       -1         0             1         0   \n",
       "1         2                       -1         0             1         0   \n",
       "2         1                      377         1             1         0   \n",
       "3         2                       -1         0             0         0   \n",
       "4        16                       -1         0             1         0   \n",
       "\n",
       "   Basildon  Basingstoke  Bath  Bedford  Belfast  Birkenhead  Birmingham  \\\n",
       "0         0            0     0        0        0           0           0   \n",
       "1         0            0     0        0        0           0           0   \n",
       "2         0            0     0        0        0           0           0   \n",
       "3         0            0     0        0        0           0           0   \n",
       "4         0            0     0        0        0           0           0   \n",
       "\n",
       "   Blackburn  Blackpool  ...  secondary  tertiary  unknown  cellular  \\\n",
       "0          0          0  ...          0         1        0         0   \n",
       "1          0          0  ...          0         0        0         1   \n",
       "2          0          0  ...          0         0        0         0   \n",
       "3          0          0  ...          1         0        0         1   \n",
       "4          0          0  ...          1         0        0         1   \n",
       "\n",
       "   telephone  unknown  aug  dec  feb  jan  jul  jun  mar  may  nov  oct  sep  \\\n",
       "0          0        1    0    0    0    0    0    1    0    0    0    0    0   \n",
       "1          0        0    0    0    0    0    1    0    0    0    0    0    0   \n",
       "2          1        0    0    0    0    0    1    0    0    0    0    0    0   \n",
       "3          0        0    0    0    0    0    0    0    0    1    0    0    0   \n",
       "4          0        0    1    0    0    0    0    0    0    0    0    0    0   \n",
       "\n",
       "   other  success  unknown  \n",
       "0      0        0        1  \n",
       "1      0        0        1  \n",
       "2      0        1        0  \n",
       "3      0        0        1  \n",
       "4      0        0        1  \n",
       "\n",
       "[5 rows x 143 columns]"
      ]
     },
     "execution_count": 267,
     "metadata": {},
     "output_type": "execute_result"
    }
   ],
   "source": [
    "pd.set_option('display.max_columns',40)\n",
    "df2.head()"
   ]
  },
  {
   "cell_type": "code",
   "execution_count": 268,
   "metadata": {},
   "outputs": [],
   "source": [
    "df2 = df2.drop_duplicates() # drop duplicate column"
   ]
  },
  {
   "cell_type": "markdown",
   "metadata": {},
   "source": [
    "## 3.6 Split the data into training set and test set"
   ]
  },
  {
   "cell_type": "code",
   "execution_count": 269,
   "metadata": {},
   "outputs": [],
   "source": [
    "## Separate independent and dependent variables\n",
    "\n",
    "X = df2.drop('made_deposit', axis = 1)\n",
    "y = df2['made_deposit']\n",
    "\n",
    "from sklearn.model_selection import train_test_split\n",
    "X_train, X_test, y_train, y_test = train_test_split(X, y, test_size = 0.3, random_state = 1)"
   ]
  },
  {
   "cell_type": "code",
   "execution_count": 270,
   "metadata": {},
   "outputs": [
    {
     "name": "stdout",
     "output_type": "stream",
     "text": [
      "(5600,)\n",
      "(2400,)\n"
     ]
    }
   ],
   "source": [
    "print(y_train.shape)\n",
    "print(y_test.shape)"
   ]
  },
  {
   "cell_type": "code",
   "execution_count": 271,
   "metadata": {},
   "outputs": [
    {
     "data": {
      "image/png": "[encoded data removed]",
      "text/plain": [
       "<Figure size 432x288 with 1 Axes>"
      ]
     },
     "metadata": {},
     "output_type": "display_data"
    }
   ],
   "source": [
    "sns.set_style(\"darkgrid\")\n",
    "plt.figure() \n",
    "sns.distplot(X_train['age'], color = 'blue', kde = True, label = 'bank')\n",
    "plt.show()"
   ]
  },
  {
   "cell_type": "markdown",
   "metadata": {},
   "source": [
    "## 3.7 Scaling of the Data"
   ]
  },
  {
   "cell_type": "code",
   "execution_count": 272,
   "metadata": {},
   "outputs": [],
   "source": [
    "from sklearn.preprocessing import StandardScaler\n",
    "sc = StandardScaler()\n",
    "X_train = sc.fit_transform(X_train)\n",
    "X_test = sc.transform(X_test)"
   ]
  },
  {
   "cell_type": "code",
   "execution_count": 273,
   "metadata": {},
   "outputs": [],
   "source": [
    "X_train = pd.DataFrame(X_train, columns = X.columns)\n",
    "X_test = pd.DataFrame(X_test, columns = X.columns)"
   ]
  },
  {
   "cell_type": "code",
   "execution_count": 274,
   "metadata": {},
   "outputs": [
    {
     "data": {
      "image/png": "[encoded data removed]",
      "text/plain": [
       "<Figure size 432x288 with 1 Axes>"
      ]
     },
     "metadata": {},
     "output_type": "display_data"
    }
   ],
   "source": [
    "sns.set_style(\"darkgrid\")\n",
    "plt.figure() \n",
    "sns.distplot(X_train['age'], color = 'blue', kde = True, label = 'bank')\n",
    "plt.show()"
   ]
  },
  {
   "cell_type": "markdown",
   "metadata": {},
   "source": [
    "# 4. Modeling"
   ]
  },
  {
   "cell_type": "markdown",
   "metadata": {},
   "source": [
    "## 4.1. Building Logistic Regression Model for Training Set"
   ]
  },
  {
   "cell_type": "code",
   "execution_count": 275,
   "metadata": {},
   "outputs": [
    {
     "data": {
      "text/plain": [
       "LogisticRegression()"
      ]
     },
     "execution_count": 275,
     "metadata": {},
     "output_type": "execute_result"
    }
   ],
   "source": [
    "from sklearn.linear_model import LogisticRegression\n",
    "lr = LogisticRegression()\n",
    "lr.fit(X_train, y_train)"
   ]
  },
  {
   "cell_type": "code",
   "execution_count": 276,
   "metadata": {},
   "outputs": [],
   "source": [
    "y_pred = lr.predict(X_test)"
   ]
  },
  {
   "cell_type": "code",
   "execution_count": 277,
   "metadata": {},
   "outputs": [
    {
     "data": {
      "text/plain": [
       "0.7160714285714286"
      ]
     },
     "execution_count": 277,
     "metadata": {},
     "output_type": "execute_result"
    }
   ],
   "source": [
    "lr.score(X_train, y_train)"
   ]
  },
  {
   "cell_type": "code",
   "execution_count": 278,
   "metadata": {},
   "outputs": [
    {
     "data": {
      "text/plain": [
       "0.6991666666666667"
      ]
     },
     "execution_count": 278,
     "metadata": {},
     "output_type": "execute_result"
    }
   ],
   "source": [
    "lr.score(X_test, y_test)"
   ]
  },
  {
   "cell_type": "markdown",
   "metadata": {},
   "source": [
    "## 4.2 Model Evaluation of Logistic Regression"
   ]
  },
  {
   "cell_type": "code",
   "execution_count": 279,
   "metadata": {},
   "outputs": [
    {
     "name": "stdout",
     "output_type": "stream",
     "text": [
      "69.91666666666667\n",
      "[[973 291]\n",
      " [431 705]]\n"
     ]
    }
   ],
   "source": [
    "from sklearn.metrics import confusion_matrix, accuracy_score, roc_auc_score, roc_curve\n",
    "\n",
    "acc = accuracy_score(y_test, y_pred)*100\n",
    "cm = confusion_matrix(y_test, y_pred)\n",
    "print(acc)\n",
    "print(cm)\n",
    "\n",
    "accuracies = {}\n",
    "accuracies['Logistic Regression']=acc"
   ]
  },
  {
   "cell_type": "code",
   "execution_count": 280,
   "metadata": {},
   "outputs": [
    {
     "data": {
      "text/plain": [
       "<AxesSubplot:>"
      ]
     },
     "execution_count": 280,
     "metadata": {},
     "output_type": "execute_result"
    },
    {
     "data": {
      "image/png": "[encoded data removed]",
      "text/plain": [
       "<Figure size 432x288 with 2 Axes>"
      ]
     },
     "metadata": {},
     "output_type": "display_data"
    }
   ],
   "source": [
    "plt.figure(figsize=(6,4))\n",
    "sns.heatmap(cm,annot=True,fmt='.6g',cmap='Blues')"
   ]
  },
  {
   "cell_type": "code",
   "execution_count": 281,
   "metadata": {},
   "outputs": [
    {
     "name": "stdout",
     "output_type": "stream",
     "text": [
      "0.7560428830896773\n"
     ]
    },
    {
     "data": {
      "image/png": "[encoded data removed]",
      "text/plain": [
       "<Figure size 576x432 with 1 Axes>"
      ]
     },
     "metadata": {},
     "output_type": "display_data"
    }
   ],
   "source": [
    "# tpr = tp/tp+fn;     fpr = fp/fp+tn\n",
    "\n",
    "plt.figure(figsize=(8,6))\n",
    "probs = lr.predict_proba(X_test)\n",
    "# keep probabilty of positive only\n",
    "probs = probs[:, 1]\n",
    "# csalculation of roc curve\n",
    "\n",
    "auc = roc_auc_score(y_test, probs)\n",
    "print(auc)\n",
    "fpr, tpr, thresholds = roc_curve(y_test, probs)\n",
    "\n",
    "plt.plot([0,1], [0,1], linestyle = '--')\n",
    "plt.plot(fpr, tpr, marker = '.')\n",
    "plt.show()"
   ]
  },
  {
   "cell_type": "code",
   "execution_count": null,
   "metadata": {},
   "outputs": [],
   "source": []
  },
  {
   "cell_type": "markdown",
   "metadata": {},
   "source": [
    "## 4.3. Building Random Forest Model for Training Set"
   ]
  },
  {
   "cell_type": "code",
   "execution_count": 282,
   "metadata": {},
   "outputs": [
    {
     "data": {
      "text/plain": [
       "RandomForestClassifier()"
      ]
     },
     "execution_count": 282,
     "metadata": {},
     "output_type": "execute_result"
    }
   ],
   "source": [
    "from sklearn.ensemble import RandomForestClassifier\n",
    "rfc = RandomForestClassifier()\n",
    "rfc.fit(X_train, y_train)"
   ]
  },
  {
   "cell_type": "code",
   "execution_count": 283,
   "metadata": {},
   "outputs": [],
   "source": [
    "y_pred_rfc = rfc.predict(X_test)"
   ]
  },
  {
   "cell_type": "code",
   "execution_count": 284,
   "metadata": {},
   "outputs": [
    {
     "data": {
      "text/plain": [
       "1.0"
      ]
     },
     "execution_count": 284,
     "metadata": {},
     "output_type": "execute_result"
    }
   ],
   "source": [
    "rfc.score(X_train, y_train)"
   ]
  },
  {
   "cell_type": "code",
   "execution_count": 285,
   "metadata": {},
   "outputs": [
    {
     "data": {
      "text/plain": [
       "0.7154166666666667"
      ]
     },
     "execution_count": 285,
     "metadata": {},
     "output_type": "execute_result"
    }
   ],
   "source": [
    "rfc.score(X_test, y_test)"
   ]
  },
  {
   "cell_type": "code",
   "execution_count": 286,
   "metadata": {},
   "outputs": [
    {
     "data": {
      "text/plain": [
       "(5600, 142)"
      ]
     },
     "execution_count": 286,
     "metadata": {},
     "output_type": "execute_result"
    }
   ],
   "source": [
    "X_train.shape"
   ]
  },
  {
   "cell_type": "code",
   "execution_count": 287,
   "metadata": {},
   "outputs": [
    {
     "data": {
      "text/plain": [
       "0.7235714285714285"
      ]
     },
     "execution_count": 287,
     "metadata": {},
     "output_type": "execute_result"
    }
   ],
   "source": [
    "# Lets do cross validation\n",
    "from sklearn.model_selection import cross_val_score\n",
    "rfc_score = cross_val_score(rfc, X_train, y_train, cv = 10)\n",
    "rfc_mean = rfc_score.mean()\n",
    "rfc_mean"
   ]
  },
  {
   "cell_type": "code",
   "execution_count": 288,
   "metadata": {},
   "outputs": [
    {
     "name": "stdout",
     "output_type": "stream",
     "text": [
      "Parameters currently in use:\n",
      "\n",
      "{'bootstrap': True,\n",
      " 'ccp_alpha': 0.0,\n",
      " 'class_weight': None,\n",
      " 'criterion': 'gini',\n",
      " 'max_depth': None,\n",
      " 'max_features': 'auto',\n",
      " 'max_leaf_nodes': None,\n",
      " 'max_samples': None,\n",
      " 'min_impurity_decrease': 0.0,\n",
      " 'min_impurity_split': None,\n",
      " 'min_samples_leaf': 1,\n",
      " 'min_samples_split': 2,\n",
      " 'min_weight_fraction_leaf': 0.0,\n",
      " 'n_estimators': 100,\n",
      " 'n_jobs': None,\n",
      " 'oob_score': False,\n",
      " 'random_state': None,\n",
      " 'verbose': 0,\n",
      " 'warm_start': False}\n"
     ]
    }
   ],
   "source": [
    "from pprint import pprint\n",
    "print(\"Parameters currently in use:\\n\")\n",
    "pprint(rfc.get_params())"
   ]
  },
  {
   "cell_type": "code",
   "execution_count": 289,
   "metadata": {},
   "outputs": [],
   "source": [
    "# from sklearn.model_selection import RepeatedStratifiedKFold, GridSearchCV\n",
    "\n",
    "# param_dist = {\"max_depth\": [1,2,3,5,4,6,7,8,9, None],\n",
    "#               \"max_features\":[1,2,3,5,4,6,7,8,9, None],\n",
    "#               \"min_samples_leaf\": [1,2,3,5,4,6,7,8,9, None],\n",
    "#               \"criterion\": [\"gini\", \"entropy\"],\n",
    "#               \"min_samples_split\": [2, 5, 10]}\n",
    "\n",
    "# #cv = RepeatedStratifiedKFold(n_splits=10, n_repeats=3, random_state=1)\n",
    "# grid_search = GridSearchCV(estimator=RandomForestClassifier(), param_grid=param_dist,n_jobs = -1, cv = 10, scoring='accuracy', error_score= 0)\n",
    "# grid_result = grid_search.fit(X, y)"
   ]
  },
  {
   "cell_type": "code",
   "execution_count": 290,
   "metadata": {},
   "outputs": [],
   "source": [
    "#grid_result.best_params_"
   ]
  },
  {
   "cell_type": "code",
   "execution_count": 291,
   "metadata": {},
   "outputs": [
    {
     "data": {
      "text/plain": [
       "RandomForestClassifier(max_features=9, min_samples_leaf=2)"
      ]
     },
     "execution_count": 291,
     "metadata": {},
     "output_type": "execute_result"
    }
   ],
   "source": [
    "rft = RandomForestClassifier(criterion='gini', max_depth=None, max_features= 9, \n",
    "                                min_samples_leaf=2, min_samples_split= 2) # random forest_hyperparameteer tuning\n",
    "rft.fit(X_train, y_train)"
   ]
  },
  {
   "cell_type": "code",
   "execution_count": 292,
   "metadata": {},
   "outputs": [],
   "source": [
    "y_pred_rft = rft.predict(X_test)"
   ]
  },
  {
   "cell_type": "code",
   "execution_count": 293,
   "metadata": {},
   "outputs": [
    {
     "data": {
      "text/plain": [
       "0.8439285714285715"
      ]
     },
     "execution_count": 293,
     "metadata": {},
     "output_type": "execute_result"
    }
   ],
   "source": [
    "rft.score(X_train, y_train)"
   ]
  },
  {
   "cell_type": "code",
   "execution_count": 294,
   "metadata": {},
   "outputs": [
    {
     "data": {
      "text/plain": [
       "0.71875"
      ]
     },
     "execution_count": 294,
     "metadata": {},
     "output_type": "execute_result"
    }
   ],
   "source": [
    "rft.score(X_test, y_test)"
   ]
  },
  {
   "cell_type": "markdown",
   "metadata": {},
   "source": [
    "## 4.4 Model Evaluation of Random Forest"
   ]
  },
  {
   "cell_type": "code",
   "execution_count": 295,
   "metadata": {},
   "outputs": [
    {
     "name": "stdout",
     "output_type": "stream",
     "text": [
      "71.875\n",
      "[[1018  246]\n",
      " [ 429  707]]\n"
     ]
    }
   ],
   "source": [
    "# from sklearn.metrics import confusion_matrix, accuracy_score, roc_auc_score, roc_curve\n",
    "\n",
    "acc = accuracy_score(y_test, y_pred_rft)*100\n",
    "cm = confusion_matrix(y_test, y_pred_rft)\n",
    "\n",
    "accuracies['Random Forest']=acc\n",
    "print(acc)\n",
    "print(cm)"
   ]
  },
  {
   "cell_type": "code",
   "execution_count": 296,
   "metadata": {},
   "outputs": [
    {
     "data": {
      "text/plain": [
       "<AxesSubplot:>"
      ]
     },
     "execution_count": 296,
     "metadata": {},
     "output_type": "execute_result"
    },
    {
     "data": {
      "image/png": "[encoded data removed]",
      "text/plain": [
       "<Figure size 432x288 with 2 Axes>"
      ]
     },
     "metadata": {},
     "output_type": "display_data"
    }
   ],
   "source": [
    "plt.figure(figsize=(6,4))\n",
    "sns.heatmap(cm, annot=True, fmt = '0.6g', cmap = 'Greens')"
   ]
  },
  {
   "cell_type": "code",
   "execution_count": 297,
   "metadata": {},
   "outputs": [
    {
     "data": {
      "image/png": "[encoded data removed]",
      "text/plain": [
       "<Figure size 432x288 with 1 Axes>"
      ]
     },
     "metadata": {},
     "output_type": "display_data"
    }
   ],
   "source": [
    "plt.figure(figsize=(6,4))\n",
    "probs = rft.predict_proba(X_test)\n",
    "# keep only positive probabilities\n",
    "\n",
    "probs = probs[:, 1]\n",
    "# calculate roc curve\n",
    "\n",
    "fpr, tpr, thresholds = roc_curve(y_test, probs)\n",
    "plt.plot([0, 1], [0, 1], linestyle = '--')\n",
    "plt.plot(fpr, tpr, marker = '.')\n",
    "plt.xlabel('fpr')\n",
    "plt.ylabel('tpr')\n",
    "plt.show()"
   ]
  },
  {
   "cell_type": "code",
   "execution_count": 298,
   "metadata": {},
   "outputs": [
    {
     "data": {
      "image/png": "[encoded data removed]",
      "text/plain": [
       "<Figure size 432x360 with 1 Axes>"
      ]
     },
     "metadata": {},
     "output_type": "display_data"
    }
   ],
   "source": [
    "plt.figure(figsize=(6,5))\n",
    "plt.yticks(np.arange(0,100,5))\n",
    "plt.ylabel(\"Accuract %\")\n",
    "plt.xlabel(\"Algorithms\")\n",
    "colors = [\"blue\", \"red\"]\n",
    "sns.barplot(x = list(accuracies.keys()), y = list(accuracies.values()), palette=colors)\n",
    "plt.show()"
   ]
  },
  {
   "cell_type": "code",
   "execution_count": 299,
   "metadata": {},
   "outputs": [
    {
     "data": {
      "text/plain": [
       "<AxesSubplot:>"
      ]
     },
     "execution_count": 299,
     "metadata": {},
     "output_type": "execute_result"
    },
    {
     "data": {
      "image/png": "[encoded data removed]",
      "text/plain": [
       "<Figure size 432x288 with 1 Axes>"
      ]
     },
     "metadata": {},
     "output_type": "display_data"
    }
   ],
   "source": [
    "# lets see the best features\n",
    "\n",
    "score = rft.feature_importances_\n",
    "pd.DataFrame(score, index = X.columns, columns = ['score']).sort_values('score', ascending=False).head(10).plot.barh()"
   ]
  },
  {
   "cell_type": "markdown",
   "metadata": {},
   "source": [
    "# Neural Network with Keras"
   ]
  },
  {
   "cell_type": "code",
   "execution_count": 300,
   "metadata": {},
   "outputs": [],
   "source": [
    "import tensorflow as tf\n",
    "from tensorflow import keras\n",
    "from tensorflow.keras import layers"
   ]
  },
  {
   "cell_type": "code",
   "execution_count": 301,
   "metadata": {},
   "outputs": [],
   "source": [
    "# X_train = np.array(X_train)\n",
    "# X_test = np.array(X_test)\n",
    "# y_train = np.array(y_train)\n",
    "# y_test = np.array(y_test)"
   ]
  },
  {
   "cell_type": "code",
   "execution_count": 302,
   "metadata": {},
   "outputs": [
    {
     "name": "stdout",
     "output_type": "stream",
     "text": [
      "(5600, 142)\n",
      "(5600,)\n"
     ]
    }
   ],
   "source": [
    "print(X_train.shape)\n",
    "print(y_train.shape)"
   ]
  },
  {
   "cell_type": "code",
   "execution_count": 303,
   "metadata": {},
   "outputs": [],
   "source": [
    "X_train = X_train.astype(np.float32)\n",
    "X_test = X_test.astype(np.float32)\n",
    "\n",
    "y_train = np.asarray(y_train).astype(np.int).reshape((-1, 1))\n",
    "y_test = np.asarray(y_test).astype(np.int).reshape((-1, 1))"
   ]
  },
  {
   "cell_type": "code",
   "execution_count": 304,
   "metadata": {},
   "outputs": [
    {
     "name": "stdout",
     "output_type": "stream",
     "text": [
      "(5600, 142) (5600, 1)\n",
      "(2400, 142) (2400, 1)\n"
     ]
    }
   ],
   "source": [
    "print(X_train.shape, y_train.shape)\n",
    "print(X_test.shape, y_test.shape)"
   ]
  },
  {
   "cell_type": "code",
   "execution_count": 305,
   "metadata": {},
   "outputs": [
    {
     "name": "stdout",
     "output_type": "stream",
     "text": [
      "Model: \"sequential_9\"\n",
      "_________________________________________________________________\n",
      "Layer (type)                 Output Shape              Param #   \n",
      "=================================================================\n",
      "dense_45 (Dense)             (None, 250)               35750     \n",
      "_________________________________________________________________\n",
      "dropout_24 (Dropout)         (None, 250)               0         \n",
      "_________________________________________________________________\n",
      "dense_46 (Dense)             (None, 150)               37650     \n",
      "_________________________________________________________________\n",
      "dropout_25 (Dropout)         (None, 150)               0         \n",
      "_________________________________________________________________\n",
      "dense_47 (Dense)             (None, 150)               22650     \n",
      "_________________________________________________________________\n",
      "dropout_26 (Dropout)         (None, 150)               0         \n",
      "_________________________________________________________________\n",
      "dense_48 (Dense)             (None, 50)                7550      \n",
      "_________________________________________________________________\n",
      "dropout_27 (Dropout)         (None, 50)                0         \n",
      "_________________________________________________________________\n",
      "dense_49 (Dense)             (None, 1)                 51        \n",
      "=================================================================\n",
      "Total params: 103,651\n",
      "Trainable params: 103,651\n",
      "Non-trainable params: 0\n",
      "_________________________________________________________________\n"
     ]
    }
   ],
   "source": [
    "#Define Sequential model with 3 layers\n",
    "model = keras.Sequential()\n",
    "model.add(layers.Dense(units = 250, activation=\"relu\", input_dim=142))\n",
    "model.add(layers.Dropout(0.3))\n",
    "\n",
    "model.add(layers.Dense(units = 150, activation=\"relu\"))\n",
    "model.add(layers.Dropout(0.3))\n",
    "\n",
    "model.add(layers.Dense(units = 150, activation=\"relu\"))\n",
    "model.add(layers.Dropout(0.2))\n",
    "\n",
    "model.add(layers.Dense(units = 50, activation=\"relu\"))\n",
    "model.add(layers.Dropout(0.2))\n",
    "\n",
    "model.add(layers.Dense(units = 1, activation=\"sigmoid\"))\n",
    "\n",
    "model.summary()"
   ]
  },
  {
   "cell_type": "code",
   "execution_count": 306,
   "metadata": {},
   "outputs": [],
   "source": [
    "model.compile(optimizer = \"adam\", loss = \"binary_crossentropy\", metrics = [\"accuracy\"])"
   ]
  },
  {
   "cell_type": "code",
   "execution_count": 307,
   "metadata": {},
   "outputs": [
    {
     "name": "stdout",
     "output_type": "stream",
     "text": [
      "Epoch 1/300\n",
      "19/19 - 1s - loss: 0.6895 - accuracy: 0.5621 - val_loss: 0.6358 - val_accuracy: 0.6496\n",
      "Epoch 2/300\n",
      "19/19 - 0s - loss: 0.6299 - accuracy: 0.6452 - val_loss: 0.6048 - val_accuracy: 0.6746\n",
      "Epoch 3/300\n",
      "19/19 - 0s - loss: 0.6089 - accuracy: 0.6645 - val_loss: 0.5964 - val_accuracy: 0.6850\n",
      "Epoch 4/300\n",
      "19/19 - 0s - loss: 0.5909 - accuracy: 0.6807 - val_loss: 0.5930 - val_accuracy: 0.6925\n",
      "Epoch 5/300\n",
      "19/19 - 0s - loss: 0.5814 - accuracy: 0.6880 - val_loss: 0.5927 - val_accuracy: 0.6908\n",
      "Epoch 6/300\n",
      "19/19 - 0s - loss: 0.5653 - accuracy: 0.7043 - val_loss: 0.5912 - val_accuracy: 0.6921\n",
      "Epoch 7/300\n",
      "19/19 - 0s - loss: 0.5578 - accuracy: 0.7218 - val_loss: 0.5917 - val_accuracy: 0.6917\n",
      "Epoch 8/300\n",
      "19/19 - 0s - loss: 0.5590 - accuracy: 0.7127 - val_loss: 0.5906 - val_accuracy: 0.6875\n",
      "Epoch 9/300\n",
      "19/19 - 0s - loss: 0.5442 - accuracy: 0.7268 - val_loss: 0.5905 - val_accuracy: 0.6908\n",
      "Epoch 10/300\n",
      "19/19 - 0s - loss: 0.5395 - accuracy: 0.7243 - val_loss: 0.5904 - val_accuracy: 0.6883\n",
      "Epoch 11/300\n",
      "19/19 - 0s - loss: 0.5390 - accuracy: 0.7254 - val_loss: 0.5888 - val_accuracy: 0.6954\n",
      "Epoch 12/300\n",
      "19/19 - 0s - loss: 0.5297 - accuracy: 0.7379 - val_loss: 0.5881 - val_accuracy: 0.6946\n",
      "Epoch 13/300\n",
      "19/19 - 0s - loss: 0.5191 - accuracy: 0.7457 - val_loss: 0.5942 - val_accuracy: 0.6921\n",
      "Epoch 14/300\n",
      "19/19 - 0s - loss: 0.5244 - accuracy: 0.7404 - val_loss: 0.5942 - val_accuracy: 0.6979\n",
      "Epoch 15/300\n",
      "19/19 - 0s - loss: 0.5056 - accuracy: 0.7545 - val_loss: 0.6033 - val_accuracy: 0.6946\n",
      "Epoch 16/300\n",
      "19/19 - 0s - loss: 0.5048 - accuracy: 0.7588 - val_loss: 0.5942 - val_accuracy: 0.6988\n",
      "Epoch 17/300\n",
      "19/19 - 0s - loss: 0.4943 - accuracy: 0.7579 - val_loss: 0.5995 - val_accuracy: 0.6938\n",
      "Epoch 18/300\n",
      "19/19 - 0s - loss: 0.4884 - accuracy: 0.7564 - val_loss: 0.6033 - val_accuracy: 0.6933\n",
      "Epoch 19/300\n",
      "19/19 - 0s - loss: 0.4869 - accuracy: 0.7654 - val_loss: 0.6040 - val_accuracy: 0.6954\n",
      "Epoch 20/300\n",
      "19/19 - 0s - loss: 0.4838 - accuracy: 0.7586 - val_loss: 0.6140 - val_accuracy: 0.6908\n",
      "Epoch 21/300\n",
      "19/19 - 0s - loss: 0.4662 - accuracy: 0.7754 - val_loss: 0.6200 - val_accuracy: 0.6913\n",
      "Epoch 22/300\n",
      "19/19 - 0s - loss: 0.4633 - accuracy: 0.7795 - val_loss: 0.6247 - val_accuracy: 0.6913\n",
      "Epoch 23/300\n",
      "19/19 - 0s - loss: 0.4602 - accuracy: 0.7809 - val_loss: 0.6192 - val_accuracy: 0.6938\n",
      "Epoch 24/300\n",
      "19/19 - 0s - loss: 0.4453 - accuracy: 0.7870 - val_loss: 0.6266 - val_accuracy: 0.6817\n",
      "Epoch 25/300\n",
      "19/19 - 0s - loss: 0.4428 - accuracy: 0.7902 - val_loss: 0.6276 - val_accuracy: 0.6950\n",
      "Epoch 26/300\n",
      "19/19 - 0s - loss: 0.4344 - accuracy: 0.7914 - val_loss: 0.6315 - val_accuracy: 0.6921\n",
      "Epoch 27/300\n",
      "19/19 - 0s - loss: 0.4199 - accuracy: 0.8045 - val_loss: 0.6497 - val_accuracy: 0.6758\n",
      "Epoch 28/300\n",
      "19/19 - 0s - loss: 0.4094 - accuracy: 0.8096 - val_loss: 0.6744 - val_accuracy: 0.6821\n",
      "Epoch 29/300\n",
      "19/19 - 0s - loss: 0.4107 - accuracy: 0.8105 - val_loss: 0.6546 - val_accuracy: 0.6846\n",
      "Epoch 30/300\n",
      "19/19 - 0s - loss: 0.4028 - accuracy: 0.8120 - val_loss: 0.6697 - val_accuracy: 0.6896\n",
      "Epoch 31/300\n",
      "19/19 - 0s - loss: 0.4025 - accuracy: 0.8082 - val_loss: 0.6677 - val_accuracy: 0.6775\n",
      "Epoch 32/300\n",
      "19/19 - 0s - loss: 0.3961 - accuracy: 0.8145 - val_loss: 0.6741 - val_accuracy: 0.6767\n",
      "Epoch 33/300\n",
      "19/19 - 0s - loss: 0.3900 - accuracy: 0.8166 - val_loss: 0.6970 - val_accuracy: 0.6808\n",
      "Epoch 34/300\n",
      "19/19 - 0s - loss: 0.3817 - accuracy: 0.8161 - val_loss: 0.6967 - val_accuracy: 0.6796\n",
      "Epoch 35/300\n",
      "19/19 - 0s - loss: 0.3836 - accuracy: 0.8245 - val_loss: 0.6928 - val_accuracy: 0.6867\n",
      "Epoch 36/300\n",
      "19/19 - 0s - loss: 0.3614 - accuracy: 0.8348 - val_loss: 0.7168 - val_accuracy: 0.6800\n",
      "Epoch 37/300\n",
      "19/19 - 0s - loss: 0.3642 - accuracy: 0.8314 - val_loss: 0.7347 - val_accuracy: 0.6804\n",
      "Epoch 38/300\n",
      "19/19 - 0s - loss: 0.3516 - accuracy: 0.8350 - val_loss: 0.7208 - val_accuracy: 0.6796\n",
      "Epoch 39/300\n",
      "19/19 - 0s - loss: 0.3512 - accuracy: 0.8432 - val_loss: 0.7362 - val_accuracy: 0.6817\n",
      "Epoch 40/300\n",
      "19/19 - 0s - loss: 0.3388 - accuracy: 0.8434 - val_loss: 0.7373 - val_accuracy: 0.6812\n",
      "Epoch 41/300\n",
      "19/19 - 0s - loss: 0.3448 - accuracy: 0.8461 - val_loss: 0.7433 - val_accuracy: 0.6846\n",
      "Epoch 42/300\n",
      "19/19 - 0s - loss: 0.3374 - accuracy: 0.8446 - val_loss: 0.7535 - val_accuracy: 0.6729\n",
      "Epoch 43/300\n",
      "19/19 - 0s - loss: 0.3255 - accuracy: 0.8523 - val_loss: 0.7542 - val_accuracy: 0.6683\n",
      "Epoch 44/300\n",
      "19/19 - 0s - loss: 0.3267 - accuracy: 0.8509 - val_loss: 0.7869 - val_accuracy: 0.6825\n",
      "Epoch 45/300\n",
      "19/19 - 0s - loss: 0.3234 - accuracy: 0.8546 - val_loss: 0.7725 - val_accuracy: 0.6721\n",
      "Epoch 46/300\n",
      "19/19 - 0s - loss: 0.3178 - accuracy: 0.8525 - val_loss: 0.7857 - val_accuracy: 0.6696\n",
      "Epoch 47/300\n",
      "19/19 - 0s - loss: 0.3187 - accuracy: 0.8586 - val_loss: 0.7526 - val_accuracy: 0.6733\n",
      "Epoch 48/300\n",
      "19/19 - 0s - loss: 0.3036 - accuracy: 0.8639 - val_loss: 0.8109 - val_accuracy: 0.6721\n",
      "Epoch 49/300\n",
      "19/19 - 0s - loss: 0.3042 - accuracy: 0.8671 - val_loss: 0.8124 - val_accuracy: 0.6833\n",
      "Epoch 50/300\n",
      "19/19 - 0s - loss: 0.2978 - accuracy: 0.8709 - val_loss: 0.8243 - val_accuracy: 0.6675\n",
      "Epoch 51/300\n",
      "19/19 - 0s - loss: 0.2939 - accuracy: 0.8684 - val_loss: 0.8245 - val_accuracy: 0.6646\n",
      "Epoch 52/300\n",
      "19/19 - 0s - loss: 0.2873 - accuracy: 0.8754 - val_loss: 0.8250 - val_accuracy: 0.6717\n",
      "Epoch 53/300\n",
      "19/19 - 0s - loss: 0.2894 - accuracy: 0.8677 - val_loss: 0.8388 - val_accuracy: 0.6642\n",
      "Epoch 54/300\n",
      "19/19 - 0s - loss: 0.2692 - accuracy: 0.8814 - val_loss: 0.8825 - val_accuracy: 0.6571\n",
      "Epoch 55/300\n",
      "19/19 - 0s - loss: 0.2739 - accuracy: 0.8818 - val_loss: 0.8444 - val_accuracy: 0.6642\n",
      "Epoch 56/300\n",
      "19/19 - 0s - loss: 0.2731 - accuracy: 0.8825 - val_loss: 0.8767 - val_accuracy: 0.6579\n",
      "Epoch 57/300\n",
      "19/19 - 0s - loss: 0.2696 - accuracy: 0.8838 - val_loss: 0.8685 - val_accuracy: 0.6662\n",
      "Epoch 58/300\n",
      "19/19 - 0s - loss: 0.2685 - accuracy: 0.8905 - val_loss: 0.8483 - val_accuracy: 0.6604\n",
      "Epoch 59/300\n",
      "19/19 - 0s - loss: 0.2596 - accuracy: 0.8896 - val_loss: 0.8821 - val_accuracy: 0.6629\n",
      "Epoch 60/300\n",
      "19/19 - 0s - loss: 0.2577 - accuracy: 0.8896 - val_loss: 0.8955 - val_accuracy: 0.6612\n",
      "Epoch 61/300\n",
      "19/19 - 0s - loss: 0.2496 - accuracy: 0.8966 - val_loss: 0.8928 - val_accuracy: 0.6642\n",
      "Epoch 62/300\n",
      "19/19 - 0s - loss: 0.2419 - accuracy: 0.8966 - val_loss: 0.9306 - val_accuracy: 0.6650\n",
      "Epoch 63/300\n",
      "19/19 - 0s - loss: 0.2387 - accuracy: 0.8957 - val_loss: 0.9190 - val_accuracy: 0.6629\n",
      "Epoch 64/300\n",
      "19/19 - 0s - loss: 0.2352 - accuracy: 0.8993 - val_loss: 0.9482 - val_accuracy: 0.6679\n",
      "Epoch 65/300\n",
      "19/19 - 0s - loss: 0.2434 - accuracy: 0.8954 - val_loss: 0.9400 - val_accuracy: 0.6642\n",
      "Epoch 66/300\n",
      "19/19 - 0s - loss: 0.2383 - accuracy: 0.8966 - val_loss: 0.9284 - val_accuracy: 0.6654\n",
      "Epoch 67/300\n",
      "19/19 - 0s - loss: 0.2332 - accuracy: 0.8979 - val_loss: 0.9554 - val_accuracy: 0.6608\n",
      "Epoch 68/300\n",
      "19/19 - 0s - loss: 0.2250 - accuracy: 0.9066 - val_loss: 0.9506 - val_accuracy: 0.6671\n",
      "Epoch 69/300\n",
      "19/19 - 0s - loss: 0.2280 - accuracy: 0.9000 - val_loss: 0.9856 - val_accuracy: 0.6633\n",
      "Epoch 70/300\n",
      "19/19 - 0s - loss: 0.2294 - accuracy: 0.9036 - val_loss: 0.9853 - val_accuracy: 0.6592\n",
      "Epoch 71/300\n",
      "19/19 - 0s - loss: 0.2160 - accuracy: 0.9041 - val_loss: 1.0125 - val_accuracy: 0.6521\n",
      "Epoch 72/300\n",
      "19/19 - 0s - loss: 0.2083 - accuracy: 0.9155 - val_loss: 1.0345 - val_accuracy: 0.6542\n",
      "Epoch 73/300\n",
      "19/19 - 0s - loss: 0.2186 - accuracy: 0.9104 - val_loss: 0.9967 - val_accuracy: 0.6621\n",
      "Epoch 74/300\n",
      "19/19 - 0s - loss: 0.2216 - accuracy: 0.9068 - val_loss: 0.9985 - val_accuracy: 0.6562\n",
      "Epoch 75/300\n",
      "19/19 - 0s - loss: 0.2168 - accuracy: 0.9096 - val_loss: 1.0097 - val_accuracy: 0.6596\n",
      "Epoch 76/300\n",
      "19/19 - 0s - loss: 0.2062 - accuracy: 0.9116 - val_loss: 1.0131 - val_accuracy: 0.6538\n",
      "Epoch 77/300\n",
      "19/19 - 0s - loss: 0.1975 - accuracy: 0.9171 - val_loss: 1.0545 - val_accuracy: 0.6579\n",
      "Epoch 78/300\n",
      "19/19 - 0s - loss: 0.1994 - accuracy: 0.9171 - val_loss: 1.0766 - val_accuracy: 0.6554\n",
      "Epoch 79/300\n",
      "19/19 - 0s - loss: 0.1965 - accuracy: 0.9198 - val_loss: 1.0379 - val_accuracy: 0.6546\n",
      "Epoch 80/300\n",
      "19/19 - 0s - loss: 0.2015 - accuracy: 0.9129 - val_loss: 1.0395 - val_accuracy: 0.6625\n",
      "Epoch 81/300\n",
      "19/19 - 0s - loss: 0.1907 - accuracy: 0.9239 - val_loss: 1.0939 - val_accuracy: 0.6629\n",
      "Epoch 82/300\n",
      "19/19 - 0s - loss: 0.1952 - accuracy: 0.9177 - val_loss: 1.0630 - val_accuracy: 0.6558\n",
      "Epoch 83/300\n"
     ]
    },
    {
     "name": "stdout",
     "output_type": "stream",
     "text": [
      "19/19 - 0s - loss: 0.1900 - accuracy: 0.9209 - val_loss: 1.1020 - val_accuracy: 0.6567\n",
      "Epoch 84/300\n",
      "19/19 - 0s - loss: 0.1911 - accuracy: 0.9209 - val_loss: 1.0690 - val_accuracy: 0.6583\n",
      "Epoch 85/300\n",
      "19/19 - 0s - loss: 0.1853 - accuracy: 0.9223 - val_loss: 1.0739 - val_accuracy: 0.6550\n",
      "Epoch 86/300\n",
      "19/19 - 0s - loss: 0.1854 - accuracy: 0.9254 - val_loss: 1.1256 - val_accuracy: 0.6558\n",
      "Epoch 87/300\n",
      "19/19 - 0s - loss: 0.1755 - accuracy: 0.9248 - val_loss: 1.1252 - val_accuracy: 0.6533\n",
      "Epoch 88/300\n",
      "19/19 - 0s - loss: 0.1704 - accuracy: 0.9307 - val_loss: 1.1438 - val_accuracy: 0.6471\n",
      "Epoch 89/300\n",
      "19/19 - 0s - loss: 0.1748 - accuracy: 0.9321 - val_loss: 1.1380 - val_accuracy: 0.6575\n",
      "Epoch 90/300\n",
      "19/19 - 0s - loss: 0.1712 - accuracy: 0.9270 - val_loss: 1.1544 - val_accuracy: 0.6575\n",
      "Epoch 91/300\n",
      "19/19 - 0s - loss: 0.1644 - accuracy: 0.9312 - val_loss: 1.1934 - val_accuracy: 0.6533\n",
      "Epoch 92/300\n",
      "19/19 - 0s - loss: 0.1829 - accuracy: 0.9245 - val_loss: 1.1210 - val_accuracy: 0.6604\n",
      "Epoch 93/300\n",
      "19/19 - 0s - loss: 0.1751 - accuracy: 0.9309 - val_loss: 1.1257 - val_accuracy: 0.6579\n",
      "Epoch 94/300\n",
      "19/19 - 0s - loss: 0.1669 - accuracy: 0.9343 - val_loss: 1.1733 - val_accuracy: 0.6596\n",
      "Epoch 95/300\n",
      "19/19 - 0s - loss: 0.1680 - accuracy: 0.9304 - val_loss: 1.2006 - val_accuracy: 0.6587\n",
      "Epoch 96/300\n",
      "19/19 - 0s - loss: 0.1597 - accuracy: 0.9323 - val_loss: 1.1708 - val_accuracy: 0.6587\n",
      "Epoch 97/300\n",
      "19/19 - 0s - loss: 0.1564 - accuracy: 0.9386 - val_loss: 1.1923 - val_accuracy: 0.6479\n",
      "Epoch 98/300\n",
      "19/19 - 0s - loss: 0.1602 - accuracy: 0.9359 - val_loss: 1.1922 - val_accuracy: 0.6546\n",
      "Epoch 99/300\n",
      "19/19 - 0s - loss: 0.1559 - accuracy: 0.9362 - val_loss: 1.2230 - val_accuracy: 0.6508\n",
      "Epoch 100/300\n",
      "19/19 - 0s - loss: 0.1571 - accuracy: 0.9350 - val_loss: 1.2332 - val_accuracy: 0.6583\n",
      "Epoch 101/300\n",
      "19/19 - 0s - loss: 0.1533 - accuracy: 0.9407 - val_loss: 1.2170 - val_accuracy: 0.6579\n",
      "Epoch 102/300\n",
      "19/19 - 0s - loss: 0.1556 - accuracy: 0.9370 - val_loss: 1.2063 - val_accuracy: 0.6508\n",
      "Epoch 103/300\n",
      "19/19 - 0s - loss: 0.1524 - accuracy: 0.9370 - val_loss: 1.2042 - val_accuracy: 0.6575\n",
      "Epoch 104/300\n",
      "19/19 - 0s - loss: 0.1496 - accuracy: 0.9384 - val_loss: 1.2055 - val_accuracy: 0.6575\n",
      "Epoch 105/300\n",
      "19/19 - 0s - loss: 0.1660 - accuracy: 0.9346 - val_loss: 1.1948 - val_accuracy: 0.6575\n",
      "Epoch 106/300\n",
      "19/19 - 0s - loss: 0.1414 - accuracy: 0.9452 - val_loss: 1.2392 - val_accuracy: 0.6508\n",
      "Epoch 107/300\n",
      "19/19 - 0s - loss: 0.1469 - accuracy: 0.9400 - val_loss: 1.2933 - val_accuracy: 0.6521\n",
      "Epoch 108/300\n",
      "19/19 - 0s - loss: 0.1429 - accuracy: 0.9393 - val_loss: 1.2437 - val_accuracy: 0.6471\n",
      "Epoch 109/300\n",
      "19/19 - 0s - loss: 0.1485 - accuracy: 0.9427 - val_loss: 1.2506 - val_accuracy: 0.6488\n",
      "Epoch 110/300\n",
      "19/19 - 0s - loss: 0.1415 - accuracy: 0.9423 - val_loss: 1.3248 - val_accuracy: 0.6592\n",
      "Epoch 111/300\n",
      "19/19 - 0s - loss: 0.1503 - accuracy: 0.9405 - val_loss: 1.2343 - val_accuracy: 0.6567\n",
      "Epoch 112/300\n",
      "19/19 - 0s - loss: 0.1420 - accuracy: 0.9400 - val_loss: 1.2474 - val_accuracy: 0.6550\n",
      "Epoch 113/300\n",
      "19/19 - 0s - loss: 0.1427 - accuracy: 0.9454 - val_loss: 1.2829 - val_accuracy: 0.6542\n",
      "Epoch 114/300\n",
      "19/19 - 0s - loss: 0.1397 - accuracy: 0.9443 - val_loss: 1.2945 - val_accuracy: 0.6587\n",
      "Epoch 115/300\n",
      "19/19 - 0s - loss: 0.1346 - accuracy: 0.9452 - val_loss: 1.2851 - val_accuracy: 0.6508\n",
      "Epoch 116/300\n",
      "19/19 - 0s - loss: 0.1415 - accuracy: 0.9443 - val_loss: 1.2860 - val_accuracy: 0.6479\n",
      "Epoch 117/300\n",
      "19/19 - 0s - loss: 0.1443 - accuracy: 0.9438 - val_loss: 1.2433 - val_accuracy: 0.6583\n",
      "Epoch 118/300\n",
      "19/19 - 0s - loss: 0.1309 - accuracy: 0.9450 - val_loss: 1.2518 - val_accuracy: 0.6513\n",
      "Epoch 119/300\n",
      "19/19 - 0s - loss: 0.1345 - accuracy: 0.9486 - val_loss: 1.2714 - val_accuracy: 0.6529\n",
      "Epoch 120/300\n",
      "19/19 - 0s - loss: 0.1371 - accuracy: 0.9461 - val_loss: 1.2769 - val_accuracy: 0.6533\n",
      "Epoch 121/300\n",
      "19/19 - 0s - loss: 0.1354 - accuracy: 0.9457 - val_loss: 1.2927 - val_accuracy: 0.6583\n",
      "Epoch 122/300\n",
      "19/19 - 0s - loss: 0.1183 - accuracy: 0.9504 - val_loss: 1.3761 - val_accuracy: 0.6554\n",
      "Epoch 123/300\n",
      "19/19 - 0s - loss: 0.1281 - accuracy: 0.9513 - val_loss: 1.3535 - val_accuracy: 0.6550\n",
      "Epoch 124/300\n",
      "19/19 - 0s - loss: 0.1180 - accuracy: 0.9548 - val_loss: 1.3843 - val_accuracy: 0.6483\n",
      "Epoch 125/300\n",
      "19/19 - 0s - loss: 0.1260 - accuracy: 0.9527 - val_loss: 1.3657 - val_accuracy: 0.6488\n",
      "Epoch 126/300\n",
      "19/19 - 0s - loss: 0.1219 - accuracy: 0.9521 - val_loss: 1.3856 - val_accuracy: 0.6479\n",
      "Epoch 127/300\n",
      "19/19 - 0s - loss: 0.1353 - accuracy: 0.9452 - val_loss: 1.3194 - val_accuracy: 0.6492\n",
      "Epoch 128/300\n",
      "19/19 - 0s - loss: 0.1188 - accuracy: 0.9548 - val_loss: 1.3473 - val_accuracy: 0.6529\n",
      "Epoch 129/300\n",
      "19/19 - 0s - loss: 0.1207 - accuracy: 0.9538 - val_loss: 1.3868 - val_accuracy: 0.6579\n",
      "Epoch 130/300\n",
      "19/19 - 0s - loss: 0.1124 - accuracy: 0.9545 - val_loss: 1.3921 - val_accuracy: 0.6550\n",
      "Epoch 131/300\n",
      "19/19 - 0s - loss: 0.1109 - accuracy: 0.9580 - val_loss: 1.4558 - val_accuracy: 0.6612\n",
      "Epoch 132/300\n",
      "19/19 - 0s - loss: 0.1150 - accuracy: 0.9545 - val_loss: 1.4540 - val_accuracy: 0.6513\n",
      "Epoch 133/300\n",
      "19/19 - 0s - loss: 0.1109 - accuracy: 0.9588 - val_loss: 1.3953 - val_accuracy: 0.6421\n",
      "Epoch 134/300\n",
      "19/19 - 0s - loss: 0.1108 - accuracy: 0.9573 - val_loss: 1.4559 - val_accuracy: 0.6483\n",
      "Epoch 135/300\n",
      "19/19 - 0s - loss: 0.1176 - accuracy: 0.9552 - val_loss: 1.4695 - val_accuracy: 0.6471\n",
      "Epoch 136/300\n",
      "19/19 - 0s - loss: 0.1148 - accuracy: 0.9563 - val_loss: 1.4540 - val_accuracy: 0.6408\n",
      "Epoch 137/300\n",
      "19/19 - 0s - loss: 0.1164 - accuracy: 0.9536 - val_loss: 1.4290 - val_accuracy: 0.6604\n",
      "Epoch 138/300\n",
      "19/19 - 0s - loss: 0.1148 - accuracy: 0.9541 - val_loss: 1.4196 - val_accuracy: 0.6533\n",
      "Epoch 139/300\n",
      "19/19 - 0s - loss: 0.1125 - accuracy: 0.9573 - val_loss: 1.4108 - val_accuracy: 0.6504\n",
      "Epoch 140/300\n",
      "19/19 - 0s - loss: 0.1112 - accuracy: 0.9580 - val_loss: 1.4721 - val_accuracy: 0.6542\n",
      "Epoch 141/300\n",
      "19/19 - 0s - loss: 0.1116 - accuracy: 0.9550 - val_loss: 1.4561 - val_accuracy: 0.6608\n",
      "Epoch 142/300\n",
      "19/19 - 0s - loss: 0.1190 - accuracy: 0.9511 - val_loss: 1.3901 - val_accuracy: 0.6617\n",
      "Epoch 143/300\n",
      "19/19 - 0s - loss: 0.1036 - accuracy: 0.9586 - val_loss: 1.4303 - val_accuracy: 0.6517\n",
      "Epoch 144/300\n",
      "19/19 - 0s - loss: 0.1106 - accuracy: 0.9559 - val_loss: 1.4857 - val_accuracy: 0.6596\n",
      "Epoch 145/300\n",
      "19/19 - 0s - loss: 0.0987 - accuracy: 0.9611 - val_loss: 1.5245 - val_accuracy: 0.6554\n",
      "Epoch 146/300\n",
      "19/19 - 0s - loss: 0.0997 - accuracy: 0.9573 - val_loss: 1.5353 - val_accuracy: 0.6533\n",
      "Epoch 147/300\n",
      "19/19 - 0s - loss: 0.1012 - accuracy: 0.9605 - val_loss: 1.5801 - val_accuracy: 0.6529\n",
      "Epoch 148/300\n",
      "19/19 - 0s - loss: 0.0998 - accuracy: 0.9625 - val_loss: 1.5236 - val_accuracy: 0.6533\n",
      "Epoch 149/300\n",
      "19/19 - 0s - loss: 0.1053 - accuracy: 0.9591 - val_loss: 1.5416 - val_accuracy: 0.6479\n",
      "Epoch 150/300\n",
      "19/19 - 0s - loss: 0.1025 - accuracy: 0.9611 - val_loss: 1.4919 - val_accuracy: 0.6562\n",
      "Epoch 151/300\n",
      "19/19 - 0s - loss: 0.1068 - accuracy: 0.9589 - val_loss: 1.4920 - val_accuracy: 0.6479\n",
      "Epoch 152/300\n",
      "19/19 - 0s - loss: 0.0977 - accuracy: 0.9616 - val_loss: 1.5309 - val_accuracy: 0.6571\n",
      "Epoch 153/300\n",
      "19/19 - 0s - loss: 0.1066 - accuracy: 0.9591 - val_loss: 1.5348 - val_accuracy: 0.6467\n",
      "Epoch 154/300\n",
      "19/19 - 0s - loss: 0.1112 - accuracy: 0.9593 - val_loss: 1.4812 - val_accuracy: 0.6488\n",
      "Epoch 155/300\n",
      "19/19 - 0s - loss: 0.0984 - accuracy: 0.9614 - val_loss: 1.5102 - val_accuracy: 0.6496\n",
      "Epoch 156/300\n",
      "19/19 - 0s - loss: 0.1007 - accuracy: 0.9611 - val_loss: 1.5406 - val_accuracy: 0.6488\n",
      "Epoch 157/300\n",
      "19/19 - 0s - loss: 0.0974 - accuracy: 0.9618 - val_loss: 1.5595 - val_accuracy: 0.6504\n",
      "Epoch 158/300\n",
      "19/19 - 0s - loss: 0.0972 - accuracy: 0.9616 - val_loss: 1.5345 - val_accuracy: 0.6483\n",
      "Epoch 159/300\n",
      "19/19 - 0s - loss: 0.0953 - accuracy: 0.9643 - val_loss: 1.5455 - val_accuracy: 0.6508\n",
      "Epoch 160/300\n",
      "19/19 - 0s - loss: 0.0984 - accuracy: 0.9613 - val_loss: 1.5692 - val_accuracy: 0.6508\n",
      "Epoch 161/300\n",
      "19/19 - 0s - loss: 0.0922 - accuracy: 0.9639 - val_loss: 1.5718 - val_accuracy: 0.6446\n",
      "Epoch 162/300\n",
      "19/19 - 0s - loss: 0.1053 - accuracy: 0.9614 - val_loss: 1.5308 - val_accuracy: 0.6454\n",
      "Epoch 163/300\n",
      "19/19 - 0s - loss: 0.0975 - accuracy: 0.9630 - val_loss: 1.5625 - val_accuracy: 0.6433\n",
      "Epoch 164/300\n",
      "19/19 - 0s - loss: 0.0967 - accuracy: 0.9627 - val_loss: 1.5689 - val_accuracy: 0.6483\n"
     ]
    },
    {
     "name": "stdout",
     "output_type": "stream",
     "text": [
      "Epoch 165/300\n",
      "19/19 - 0s - loss: 0.0995 - accuracy: 0.9621 - val_loss: 1.5741 - val_accuracy: 0.6458\n",
      "Epoch 166/300\n",
      "19/19 - 0s - loss: 0.1079 - accuracy: 0.9596 - val_loss: 1.5007 - val_accuracy: 0.6488\n",
      "Epoch 167/300\n",
      "19/19 - 0s - loss: 0.1008 - accuracy: 0.9616 - val_loss: 1.4705 - val_accuracy: 0.6438\n",
      "Epoch 168/300\n",
      "19/19 - 0s - loss: 0.0932 - accuracy: 0.9641 - val_loss: 1.5482 - val_accuracy: 0.6404\n",
      "Epoch 169/300\n",
      "19/19 - 0s - loss: 0.0968 - accuracy: 0.9629 - val_loss: 1.5524 - val_accuracy: 0.6425\n",
      "Epoch 170/300\n",
      "19/19 - 0s - loss: 0.0817 - accuracy: 0.9691 - val_loss: 1.6172 - val_accuracy: 0.6433\n",
      "Epoch 171/300\n",
      "19/19 - 0s - loss: 0.0866 - accuracy: 0.9650 - val_loss: 1.6518 - val_accuracy: 0.6488\n",
      "Epoch 172/300\n",
      "19/19 - 0s - loss: 0.0858 - accuracy: 0.9652 - val_loss: 1.6311 - val_accuracy: 0.6504\n",
      "Epoch 173/300\n",
      "19/19 - 0s - loss: 0.0964 - accuracy: 0.9670 - val_loss: 1.5839 - val_accuracy: 0.6579\n",
      "Epoch 174/300\n",
      "19/19 - 0s - loss: 0.0877 - accuracy: 0.9675 - val_loss: 1.5569 - val_accuracy: 0.6604\n",
      "Epoch 175/300\n",
      "19/19 - 0s - loss: 0.0876 - accuracy: 0.9639 - val_loss: 1.5971 - val_accuracy: 0.6575\n",
      "Epoch 176/300\n",
      "19/19 - 0s - loss: 0.0926 - accuracy: 0.9670 - val_loss: 1.5869 - val_accuracy: 0.6612\n",
      "Epoch 177/300\n",
      "19/19 - 0s - loss: 0.1038 - accuracy: 0.9563 - val_loss: 1.4855 - val_accuracy: 0.6542\n",
      "Epoch 178/300\n",
      "19/19 - 0s - loss: 0.0891 - accuracy: 0.9666 - val_loss: 1.5548 - val_accuracy: 0.6583\n",
      "Epoch 179/300\n",
      "19/19 - 0s - loss: 0.0925 - accuracy: 0.9666 - val_loss: 1.5917 - val_accuracy: 0.6525\n",
      "Epoch 180/300\n",
      "19/19 - 0s - loss: 0.0850 - accuracy: 0.9661 - val_loss: 1.6510 - val_accuracy: 0.6508\n",
      "Epoch 181/300\n",
      "19/19 - 0s - loss: 0.0825 - accuracy: 0.9682 - val_loss: 1.6741 - val_accuracy: 0.6479\n",
      "Epoch 182/300\n",
      "19/19 - 0s - loss: 0.0832 - accuracy: 0.9693 - val_loss: 1.6890 - val_accuracy: 0.6525\n",
      "Epoch 183/300\n",
      "19/19 - 0s - loss: 0.0902 - accuracy: 0.9659 - val_loss: 1.6249 - val_accuracy: 0.6500\n",
      "Epoch 184/300\n",
      "19/19 - 0s - loss: 0.0829 - accuracy: 0.9704 - val_loss: 1.6458 - val_accuracy: 0.6562\n",
      "Epoch 185/300\n",
      "19/19 - 0s - loss: 0.0828 - accuracy: 0.9700 - val_loss: 1.6530 - val_accuracy: 0.6587\n",
      "Epoch 186/300\n",
      "19/19 - 0s - loss: 0.0826 - accuracy: 0.9673 - val_loss: 1.6957 - val_accuracy: 0.6567\n",
      "Epoch 187/300\n",
      "19/19 - 0s - loss: 0.0813 - accuracy: 0.9680 - val_loss: 1.6531 - val_accuracy: 0.6496\n",
      "Epoch 188/300\n",
      "19/19 - 0s - loss: 0.0776 - accuracy: 0.9709 - val_loss: 1.7146 - val_accuracy: 0.6546\n",
      "Epoch 189/300\n",
      "19/19 - 0s - loss: 0.0849 - accuracy: 0.9686 - val_loss: 1.6912 - val_accuracy: 0.6533\n",
      "Epoch 190/300\n",
      "19/19 - 0s - loss: 0.0800 - accuracy: 0.9721 - val_loss: 1.6680 - val_accuracy: 0.6479\n",
      "Epoch 191/300\n",
      "19/19 - 0s - loss: 0.0879 - accuracy: 0.9666 - val_loss: 1.6498 - val_accuracy: 0.6450\n",
      "Epoch 192/300\n",
      "19/19 - 0s - loss: 0.0815 - accuracy: 0.9707 - val_loss: 1.6509 - val_accuracy: 0.6463\n",
      "Epoch 193/300\n",
      "19/19 - 0s - loss: 0.0837 - accuracy: 0.9657 - val_loss: 1.6852 - val_accuracy: 0.6463\n",
      "Epoch 194/300\n",
      "19/19 - 0s - loss: 0.0816 - accuracy: 0.9723 - val_loss: 1.7161 - val_accuracy: 0.6483\n",
      "Epoch 195/300\n",
      "19/19 - 0s - loss: 0.0904 - accuracy: 0.9688 - val_loss: 1.6418 - val_accuracy: 0.6413\n",
      "Epoch 196/300\n",
      "19/19 - 0s - loss: 0.0751 - accuracy: 0.9727 - val_loss: 1.7023 - val_accuracy: 0.6554\n",
      "Epoch 197/300\n",
      "19/19 - 0s - loss: 0.0837 - accuracy: 0.9684 - val_loss: 1.6406 - val_accuracy: 0.6579\n",
      "Epoch 198/300\n",
      "19/19 - 0s - loss: 0.0799 - accuracy: 0.9705 - val_loss: 1.6512 - val_accuracy: 0.6642\n",
      "Epoch 199/300\n",
      "19/19 - 0s - loss: 0.0847 - accuracy: 0.9691 - val_loss: 1.6163 - val_accuracy: 0.6600\n",
      "Epoch 200/300\n",
      "19/19 - 0s - loss: 0.0782 - accuracy: 0.9702 - val_loss: 1.6386 - val_accuracy: 0.6488\n",
      "Epoch 201/300\n",
      "19/19 - 0s - loss: 0.0763 - accuracy: 0.9723 - val_loss: 1.6886 - val_accuracy: 0.6488\n",
      "Epoch 202/300\n",
      "19/19 - 0s - loss: 0.0785 - accuracy: 0.9718 - val_loss: 1.7173 - val_accuracy: 0.6496\n",
      "Epoch 203/300\n",
      "19/19 - 0s - loss: 0.0882 - accuracy: 0.9677 - val_loss: 1.6390 - val_accuracy: 0.6463\n",
      "Epoch 204/300\n",
      "19/19 - 0s - loss: 0.0770 - accuracy: 0.9702 - val_loss: 1.6479 - val_accuracy: 0.6496\n",
      "Epoch 205/300\n",
      "19/19 - 0s - loss: 0.0695 - accuracy: 0.9737 - val_loss: 1.7171 - val_accuracy: 0.6492\n",
      "Epoch 206/300\n",
      "19/19 - 0s - loss: 0.0780 - accuracy: 0.9700 - val_loss: 1.7642 - val_accuracy: 0.6358\n",
      "Epoch 207/300\n",
      "19/19 - 0s - loss: 0.0735 - accuracy: 0.9734 - val_loss: 1.7336 - val_accuracy: 0.6475\n",
      "Epoch 208/300\n",
      "19/19 - 0s - loss: 0.0719 - accuracy: 0.9737 - val_loss: 1.7254 - val_accuracy: 0.6454\n",
      "Epoch 209/300\n",
      "19/19 - 0s - loss: 0.0838 - accuracy: 0.9684 - val_loss: 1.6923 - val_accuracy: 0.6496\n",
      "Epoch 210/300\n",
      "19/19 - 0s - loss: 0.0660 - accuracy: 0.9750 - val_loss: 1.7610 - val_accuracy: 0.6504\n",
      "Epoch 211/300\n",
      "19/19 - 0s - loss: 0.0744 - accuracy: 0.9711 - val_loss: 1.7676 - val_accuracy: 0.6475\n",
      "Epoch 212/300\n",
      "19/19 - 0s - loss: 0.0658 - accuracy: 0.9768 - val_loss: 1.7956 - val_accuracy: 0.6450\n",
      "Epoch 213/300\n",
      "19/19 - 0s - loss: 0.0641 - accuracy: 0.9741 - val_loss: 1.8487 - val_accuracy: 0.6496\n",
      "Epoch 214/300\n",
      "19/19 - 0s - loss: 0.0897 - accuracy: 0.9671 - val_loss: 1.7074 - val_accuracy: 0.6508\n",
      "Epoch 215/300\n",
      "19/19 - 0s - loss: 0.0712 - accuracy: 0.9745 - val_loss: 1.7009 - val_accuracy: 0.6513\n",
      "Epoch 216/300\n",
      "19/19 - 0s - loss: 0.0680 - accuracy: 0.9727 - val_loss: 1.7387 - val_accuracy: 0.6471\n",
      "Epoch 217/300\n",
      "19/19 - 0s - loss: 0.0602 - accuracy: 0.9768 - val_loss: 1.8674 - val_accuracy: 0.6450\n",
      "Epoch 218/300\n",
      "19/19 - 0s - loss: 0.0657 - accuracy: 0.9775 - val_loss: 1.8977 - val_accuracy: 0.6421\n",
      "Epoch 219/300\n",
      "19/19 - 0s - loss: 0.0712 - accuracy: 0.9768 - val_loss: 1.8020 - val_accuracy: 0.6475\n",
      "Epoch 220/300\n",
      "19/19 - 0s - loss: 0.0733 - accuracy: 0.9702 - val_loss: 1.7344 - val_accuracy: 0.6433\n",
      "Epoch 221/300\n",
      "19/19 - 0s - loss: 0.0673 - accuracy: 0.9746 - val_loss: 1.7557 - val_accuracy: 0.6438\n",
      "Epoch 222/300\n",
      "19/19 - 0s - loss: 0.0656 - accuracy: 0.9761 - val_loss: 1.7973 - val_accuracy: 0.6471\n",
      "Epoch 223/300\n",
      "19/19 - 0s - loss: 0.0719 - accuracy: 0.9732 - val_loss: 1.7398 - val_accuracy: 0.6496\n",
      "Epoch 224/300\n",
      "19/19 - 0s - loss: 0.0742 - accuracy: 0.9729 - val_loss: 1.7008 - val_accuracy: 0.6550\n",
      "Epoch 225/300\n",
      "19/19 - 0s - loss: 0.0732 - accuracy: 0.9720 - val_loss: 1.6876 - val_accuracy: 0.6388\n",
      "Epoch 226/300\n",
      "19/19 - 0s - loss: 0.0660 - accuracy: 0.9759 - val_loss: 1.7037 - val_accuracy: 0.6467\n",
      "Epoch 227/300\n",
      "19/19 - 0s - loss: 0.0661 - accuracy: 0.9752 - val_loss: 1.7777 - val_accuracy: 0.6467\n",
      "Epoch 228/300\n",
      "19/19 - 0s - loss: 0.0684 - accuracy: 0.9748 - val_loss: 1.7699 - val_accuracy: 0.6429\n",
      "Epoch 229/300\n",
      "19/19 - 0s - loss: 0.0642 - accuracy: 0.9768 - val_loss: 1.7859 - val_accuracy: 0.6475\n",
      "Epoch 230/300\n",
      "19/19 - 0s - loss: 0.0658 - accuracy: 0.9746 - val_loss: 1.7850 - val_accuracy: 0.6554\n",
      "Epoch 231/300\n",
      "19/19 - 0s - loss: 0.0727 - accuracy: 0.9727 - val_loss: 1.7406 - val_accuracy: 0.6492\n",
      "Epoch 232/300\n",
      "19/19 - 0s - loss: 0.0695 - accuracy: 0.9750 - val_loss: 1.6959 - val_accuracy: 0.6500\n",
      "Epoch 233/300\n",
      "19/19 - 0s - loss: 0.0691 - accuracy: 0.9734 - val_loss: 1.7207 - val_accuracy: 0.6517\n",
      "Epoch 234/300\n",
      "19/19 - 0s - loss: 0.0690 - accuracy: 0.9741 - val_loss: 1.7183 - val_accuracy: 0.6483\n",
      "Epoch 235/300\n",
      "19/19 - 0s - loss: 0.0707 - accuracy: 0.9732 - val_loss: 1.7166 - val_accuracy: 0.6450\n",
      "Epoch 236/300\n",
      "19/19 - 0s - loss: 0.0748 - accuracy: 0.9721 - val_loss: 1.7070 - val_accuracy: 0.6525\n",
      "Epoch 237/300\n",
      "19/19 - 0s - loss: 0.0671 - accuracy: 0.9762 - val_loss: 1.7531 - val_accuracy: 0.6562\n",
      "Epoch 238/300\n",
      "19/19 - 0s - loss: 0.0646 - accuracy: 0.9761 - val_loss: 1.8282 - val_accuracy: 0.6517\n",
      "Epoch 239/300\n",
      "19/19 - 0s - loss: 0.0692 - accuracy: 0.9734 - val_loss: 1.7679 - val_accuracy: 0.6517\n",
      "Epoch 240/300\n",
      "19/19 - 0s - loss: 0.0668 - accuracy: 0.9752 - val_loss: 1.7673 - val_accuracy: 0.6517\n",
      "Epoch 241/300\n",
      "19/19 - 0s - loss: 0.0631 - accuracy: 0.9773 - val_loss: 1.7614 - val_accuracy: 0.6525\n",
      "Epoch 242/300\n",
      "19/19 - 0s - loss: 0.0596 - accuracy: 0.9761 - val_loss: 1.8549 - val_accuracy: 0.6458\n",
      "Epoch 243/300\n",
      "19/19 - 0s - loss: 0.0688 - accuracy: 0.9746 - val_loss: 1.8172 - val_accuracy: 0.6467\n",
      "Epoch 244/300\n",
      "19/19 - 0s - loss: 0.0675 - accuracy: 0.9737 - val_loss: 1.8195 - val_accuracy: 0.6475\n",
      "Epoch 245/300\n",
      "19/19 - 0s - loss: 0.0686 - accuracy: 0.9775 - val_loss: 1.7702 - val_accuracy: 0.6492\n",
      "Epoch 246/300\n"
     ]
    },
    {
     "name": "stdout",
     "output_type": "stream",
     "text": [
      "19/19 - 0s - loss: 0.0714 - accuracy: 0.9721 - val_loss: 1.6976 - val_accuracy: 0.6521\n",
      "Epoch 247/300\n",
      "19/19 - 0s - loss: 0.0682 - accuracy: 0.9739 - val_loss: 1.7375 - val_accuracy: 0.6546\n",
      "Epoch 248/300\n",
      "19/19 - 0s - loss: 0.0558 - accuracy: 0.9791 - val_loss: 1.8386 - val_accuracy: 0.6521\n",
      "Epoch 249/300\n",
      "19/19 - 0s - loss: 0.0563 - accuracy: 0.9800 - val_loss: 1.8905 - val_accuracy: 0.6475\n",
      "Epoch 250/300\n",
      "19/19 - 0s - loss: 0.0620 - accuracy: 0.9782 - val_loss: 1.9053 - val_accuracy: 0.6450\n",
      "Epoch 251/300\n",
      "19/19 - 0s - loss: 0.0560 - accuracy: 0.9796 - val_loss: 1.9470 - val_accuracy: 0.6463\n",
      "Epoch 252/300\n",
      "19/19 - 0s - loss: 0.0683 - accuracy: 0.9746 - val_loss: 1.8728 - val_accuracy: 0.6525\n",
      "Epoch 253/300\n",
      "19/19 - 0s - loss: 0.0659 - accuracy: 0.9748 - val_loss: 1.7717 - val_accuracy: 0.6429\n",
      "Epoch 254/300\n",
      "19/19 - 0s - loss: 0.0711 - accuracy: 0.9743 - val_loss: 1.7443 - val_accuracy: 0.6492\n",
      "Epoch 255/300\n",
      "19/19 - 0s - loss: 0.0628 - accuracy: 0.9759 - val_loss: 1.7982 - val_accuracy: 0.6471\n",
      "Epoch 256/300\n",
      "19/19 - 0s - loss: 0.0612 - accuracy: 0.9773 - val_loss: 1.8460 - val_accuracy: 0.6475\n",
      "Epoch 257/300\n",
      "19/19 - 0s - loss: 0.0585 - accuracy: 0.9802 - val_loss: 1.9341 - val_accuracy: 0.6479\n",
      "Epoch 258/300\n",
      "19/19 - 0s - loss: 0.0675 - accuracy: 0.9759 - val_loss: 1.8806 - val_accuracy: 0.6504\n",
      "Epoch 259/300\n",
      "19/19 - 0s - loss: 0.0592 - accuracy: 0.9771 - val_loss: 1.8417 - val_accuracy: 0.6471\n",
      "Epoch 260/300\n",
      "19/19 - 0s - loss: 0.0669 - accuracy: 0.9764 - val_loss: 1.7786 - val_accuracy: 0.6475\n",
      "Epoch 261/300\n",
      "19/19 - 0s - loss: 0.0610 - accuracy: 0.9773 - val_loss: 1.8632 - val_accuracy: 0.6492\n",
      "Epoch 262/300\n",
      "19/19 - 0s - loss: 0.0503 - accuracy: 0.9812 - val_loss: 1.9889 - val_accuracy: 0.6488\n",
      "Epoch 263/300\n",
      "19/19 - 0s - loss: 0.0603 - accuracy: 0.9764 - val_loss: 1.9620 - val_accuracy: 0.6496\n",
      "Epoch 264/300\n",
      "19/19 - 0s - loss: 0.0667 - accuracy: 0.9737 - val_loss: 1.8969 - val_accuracy: 0.6550\n",
      "Epoch 265/300\n",
      "19/19 - 0s - loss: 0.0574 - accuracy: 0.9777 - val_loss: 1.8732 - val_accuracy: 0.6542\n",
      "Epoch 266/300\n",
      "19/19 - 0s - loss: 0.0610 - accuracy: 0.9782 - val_loss: 1.9107 - val_accuracy: 0.6508\n",
      "Epoch 267/300\n",
      "19/19 - 0s - loss: 0.0634 - accuracy: 0.9755 - val_loss: 1.8883 - val_accuracy: 0.6483\n",
      "Epoch 268/300\n",
      "19/19 - 0s - loss: 0.0648 - accuracy: 0.9757 - val_loss: 1.7961 - val_accuracy: 0.6500\n",
      "Epoch 269/300\n",
      "19/19 - 0s - loss: 0.0609 - accuracy: 0.9768 - val_loss: 1.8350 - val_accuracy: 0.6479\n",
      "Epoch 270/300\n",
      "19/19 - 0s - loss: 0.0627 - accuracy: 0.9759 - val_loss: 1.8387 - val_accuracy: 0.6513\n",
      "Epoch 271/300\n",
      "19/19 - 0s - loss: 0.0642 - accuracy: 0.9770 - val_loss: 1.8297 - val_accuracy: 0.6483\n",
      "Epoch 272/300\n",
      "19/19 - 0s - loss: 0.0580 - accuracy: 0.9796 - val_loss: 1.8900 - val_accuracy: 0.6425\n",
      "Epoch 273/300\n",
      "19/19 - 0s - loss: 0.0620 - accuracy: 0.9779 - val_loss: 1.9185 - val_accuracy: 0.6450\n",
      "Epoch 274/300\n",
      "19/19 - 0s - loss: 0.0643 - accuracy: 0.9752 - val_loss: 1.8827 - val_accuracy: 0.6467\n",
      "Epoch 275/300\n",
      "19/19 - 0s - loss: 0.0575 - accuracy: 0.9796 - val_loss: 1.9037 - val_accuracy: 0.6417\n",
      "Epoch 276/300\n",
      "19/19 - 0s - loss: 0.0563 - accuracy: 0.9791 - val_loss: 1.9408 - val_accuracy: 0.6483\n",
      "Epoch 277/300\n",
      "19/19 - 0s - loss: 0.0558 - accuracy: 0.9793 - val_loss: 1.9547 - val_accuracy: 0.6492\n",
      "Epoch 278/300\n",
      "19/19 - 0s - loss: 0.0557 - accuracy: 0.9798 - val_loss: 1.9701 - val_accuracy: 0.6463\n",
      "Epoch 279/300\n",
      "19/19 - 0s - loss: 0.0593 - accuracy: 0.9779 - val_loss: 1.9467 - val_accuracy: 0.6463\n",
      "Epoch 280/300\n",
      "19/19 - 0s - loss: 0.0574 - accuracy: 0.9791 - val_loss: 1.8874 - val_accuracy: 0.6454\n",
      "Epoch 281/300\n",
      "19/19 - 0s - loss: 0.0554 - accuracy: 0.9800 - val_loss: 1.8894 - val_accuracy: 0.6400\n",
      "Epoch 282/300\n",
      "19/19 - 0s - loss: 0.0575 - accuracy: 0.9818 - val_loss: 1.9260 - val_accuracy: 0.6500\n",
      "Epoch 283/300\n",
      "19/19 - 0s - loss: 0.0553 - accuracy: 0.9789 - val_loss: 1.9756 - val_accuracy: 0.6508\n",
      "Epoch 284/300\n",
      "19/19 - 0s - loss: 0.0529 - accuracy: 0.9818 - val_loss: 1.9061 - val_accuracy: 0.6471\n",
      "Epoch 285/300\n",
      "19/19 - 0s - loss: 0.0549 - accuracy: 0.9795 - val_loss: 1.9320 - val_accuracy: 0.6492\n",
      "Epoch 286/300\n",
      "19/19 - 0s - loss: 0.0526 - accuracy: 0.9802 - val_loss: 1.9639 - val_accuracy: 0.6542\n",
      "Epoch 287/300\n",
      "19/19 - 0s - loss: 0.0572 - accuracy: 0.9777 - val_loss: 1.9712 - val_accuracy: 0.6496\n",
      "Epoch 288/300\n",
      "19/19 - 0s - loss: 0.0553 - accuracy: 0.9800 - val_loss: 2.0011 - val_accuracy: 0.6533\n",
      "Epoch 289/300\n",
      "19/19 - 0s - loss: 0.0589 - accuracy: 0.9795 - val_loss: 1.9598 - val_accuracy: 0.6475\n",
      "Epoch 290/300\n",
      "19/19 - 0s - loss: 0.0574 - accuracy: 0.9768 - val_loss: 1.9108 - val_accuracy: 0.6525\n",
      "Epoch 291/300\n",
      "19/19 - 0s - loss: 0.0624 - accuracy: 0.9755 - val_loss: 1.8862 - val_accuracy: 0.6496\n",
      "Epoch 292/300\n",
      "19/19 - 0s - loss: 0.0505 - accuracy: 0.9805 - val_loss: 1.9604 - val_accuracy: 0.6529\n",
      "Epoch 293/300\n",
      "19/19 - 0s - loss: 0.0579 - accuracy: 0.9787 - val_loss: 1.9124 - val_accuracy: 0.6500\n",
      "Epoch 294/300\n",
      "19/19 - 0s - loss: 0.0501 - accuracy: 0.9812 - val_loss: 2.0428 - val_accuracy: 0.6504\n",
      "Epoch 295/300\n",
      "19/19 - 0s - loss: 0.0501 - accuracy: 0.9845 - val_loss: 2.0259 - val_accuracy: 0.6458\n",
      "Epoch 296/300\n",
      "19/19 - 0s - loss: 0.0504 - accuracy: 0.9832 - val_loss: 2.0366 - val_accuracy: 0.6454\n",
      "Epoch 297/300\n",
      "19/19 - 0s - loss: 0.0543 - accuracy: 0.9836 - val_loss: 1.9858 - val_accuracy: 0.6504\n",
      "Epoch 298/300\n",
      "19/19 - 0s - loss: 0.0660 - accuracy: 0.9770 - val_loss: 1.8188 - val_accuracy: 0.6529\n",
      "Epoch 299/300\n",
      "19/19 - 0s - loss: 0.0551 - accuracy: 0.9787 - val_loss: 1.7890 - val_accuracy: 0.6475\n",
      "Epoch 300/300\n",
      "19/19 - 0s - loss: 0.0543 - accuracy: 0.9809 - val_loss: 1.8845 - val_accuracy: 0.6483\n"
     ]
    },
    {
     "data": {
      "text/plain": [
       "<tensorflow.python.keras.callbacks.History at 0x2d8c866f640>"
      ]
     },
     "execution_count": 307,
     "metadata": {},
     "output_type": "execute_result"
    }
   ],
   "source": [
    "model.fit(X_train, y_train, batch_size = 300, epochs=300, validation_data=(X_test, y_test), verbose = 2)"
   ]
  },
  {
   "cell_type": "code",
   "execution_count": 308,
   "metadata": {},
   "outputs": [],
   "source": [
    "y_pred = model.predict(X_test)"
   ]
  },
  {
   "cell_type": "code",
   "execution_count": 309,
   "metadata": {},
   "outputs": [
    {
     "data": {
      "text/plain": [
       "array([[9.9999559e-01],\n",
       "       [1.1153878e-06],\n",
       "       [1.2624472e-02],\n",
       "       ...,\n",
       "       [3.5712123e-04],\n",
       "       [1.0000000e+00],\n",
       "       [9.9975705e-01]], dtype=float32)"
      ]
     },
     "execution_count": 309,
     "metadata": {},
     "output_type": "execute_result"
    }
   ],
   "source": [
    "y_pred"
   ]
  },
  {
   "cell_type": "code",
   "execution_count": 310,
   "metadata": {},
   "outputs": [],
   "source": [
    "for i in range(len(y_pred)):\n",
    "    if y_pred[i] > 0.75:\n",
    "        y_pred[i] = 1\n",
    "    else:\n",
    "        y_pred[i] = 0"
   ]
  },
  {
   "cell_type": "code",
   "execution_count": 311,
   "metadata": {},
   "outputs": [
    {
     "data": {
      "text/plain": [
       "array([[1.],\n",
       "       [0.],\n",
       "       [0.],\n",
       "       ...,\n",
       "       [0.],\n",
       "       [1.],\n",
       "       [1.]], dtype=float32)"
      ]
     },
     "execution_count": 311,
     "metadata": {},
     "output_type": "execute_result"
    }
   ],
   "source": [
    "y_pred"
   ]
  },
  {
   "cell_type": "code",
   "execution_count": 312,
   "metadata": {},
   "outputs": [
    {
     "data": {
      "text/plain": [
       "array([[1],\n",
       "       [0],\n",
       "       [0],\n",
       "       ...,\n",
       "       [0],\n",
       "       [1],\n",
       "       [1]])"
      ]
     },
     "execution_count": 312,
     "metadata": {},
     "output_type": "execute_result"
    }
   ],
   "source": [
    "y_test"
   ]
  },
  {
   "cell_type": "code",
   "execution_count": 313,
   "metadata": {},
   "outputs": [
    {
     "name": "stdout",
     "output_type": "stream",
     "text": [
      "[[909 355]\n",
      " [462 674]]\n"
     ]
    }
   ],
   "source": [
    "cm = confusion_matrix(y_test, y_pred)\n",
    "print(cm)"
   ]
  },
  {
   "cell_type": "code",
   "execution_count": 314,
   "metadata": {},
   "outputs": [
    {
     "data": {
      "text/plain": [
       "<AxesSubplot:>"
      ]
     },
     "execution_count": 314,
     "metadata": {},
     "output_type": "execute_result"
    },
    {
     "data": {
      "image/png": "[encoded data removed]",
      "text/plain": [
       "<Figure size 432x288 with 2 Axes>"
      ]
     },
     "metadata": {},
     "output_type": "display_data"
    }
   ],
   "source": [
    "plt.figure()\n",
    "sns.heatmap(cm, annot=True, fmt='0.6g', cmap = 'Greens')"
   ]
  },
  {
   "cell_type": "code",
   "execution_count": 315,
   "metadata": {},
   "outputs": [
    {
     "name": "stdout",
     "output_type": "stream",
     "text": [
      "19/19 [==============================] - 0s 886us/step - loss: 1.8845 - accuracy: 0.6483\n"
     ]
    }
   ],
   "source": [
    "results = model.evaluate(X_test, y_test, batch_size=128)"
   ]
  },
  {
   "cell_type": "code",
   "execution_count": 316,
   "metadata": {},
   "outputs": [
    {
     "data": {
      "text/plain": [
       "[1.884482979774475, 0.6483333110809326]"
      ]
     },
     "execution_count": 316,
     "metadata": {},
     "output_type": "execute_result"
    }
   ],
   "source": [
    "results"
   ]
  },
  {
   "cell_type": "code",
   "execution_count": null,
   "metadata": {},
   "outputs": [],
   "source": []
  }
 ],
 "metadata": {
  "kernelspec": {
   "display_name": "Python 3",
   "language": "python",
   "name": "python3"
  },
  "language_info": {
   "codemirror_mode": {
    "name": "ipython",
    "version": 3
   },
   "file_extension": ".py",
   "mimetype": "text/x-python",
   "name": "python",
   "nbconvert_exporter": "python",
   "pygments_lexer": "ipython3",
   "version": "3.8.5"
  }
 },
 "nbformat": 4,
 "nbformat_minor": 4
}
